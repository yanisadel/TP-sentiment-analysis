{
  "cells": [
    {
      "cell_type": "markdown",
      "metadata": {
        "id": "CQzoeUrE1b4D"
      },
      "source": [
        "# **TP Analyse de sentiments (NLP)**"
      ]
    },
    {
      "cell_type": "markdown",
      "source": [
        "Le but de ce TP est de découvrir le Natural Language Processing (NLP) avec un exemple classique, celui de l'analyse de sentiments. Le problème consiste en le fait d'entrainer un modèle afin qu'il soit capable de déterminer si un commentaire (avis Amazon, tweet...) est positif, négatif ou neutre.\n",
        "\n",
        "On va introduire ici les principales méthodes utilisées en NLP (nettoyage du texte, puis transformation du texte en vecteur), ainsi que l'implémentation d'algorithmes de machine learning avec scikit-learn (arbre de décision, random forests), puis des algorithmes de deep learning avec tensorflow (réseaux de neurones notamment)."
      ],
      "metadata": {
        "id": "QkHhZciQp0uS"
      }
    },
    {
      "cell_type": "markdown",
      "metadata": {
        "id": "HNtDW_FcslqF"
      },
      "source": [
        "# 0) Récupération des données"
      ]
    },
    {
      "cell_type": "markdown",
      "metadata": {
        "id": "09Ddk8zUsrY8"
      },
      "source": [
        "On va d'abord récupérer un dataset sous Python grâce à la bibliothèque pandas. N'hésitez pas à regarder la documentation de pandas et à vous familiariser avec cette bibliothèque, qui est très utilisée en IA et notamment en data science.\n",
        "\n",
        "Le dataset que j'ai utilisé peut être récupéré sur ce lien : https://www.kaggle.com/crowdflower/twitter-airline-sentiment (vous pouvez en prendre un autre si vous voulez, mais pour l'instant je vous propose de prendre le même que moi). Ensuite renommez-le en \"data\" et placez le dans le même dossier que ce fichier."
      ]
    },
    {
      "cell_type": "code",
      "execution_count": 1,
      "metadata": {
        "id": "CGhuktsws8V-"
      },
      "outputs": [],
      "source": [
        "import pandas as pd"
      ]
    },
    {
      "cell_type": "code",
      "execution_count": 2,
      "metadata": {
        "colab": {
          "base_uri": "https://localhost:8080/",
          "height": 496
        },
        "id": "HGESAcOHs_2U",
        "outputId": "dc5de731-472a-4856-9da7-de7c41495035"
      },
      "outputs": [
        {
          "output_type": "execute_result",
          "data": {
            "text/plain": [
              "             tweet_id airline_sentiment  airline_sentiment_confidence  \\\n",
              "0  570306133677760513           neutral                        1.0000   \n",
              "1  570301130888122368          positive                        0.3486   \n",
              "2  570301083672813571           neutral                        0.6837   \n",
              "3  570301031407624196          negative                        1.0000   \n",
              "4  570300817074462722          negative                        1.0000   \n",
              "\n",
              "  negativereason  negativereason_confidence         airline  \\\n",
              "0            NaN                        NaN  Virgin America   \n",
              "1            NaN                     0.0000  Virgin America   \n",
              "2            NaN                        NaN  Virgin America   \n",
              "3     Bad Flight                     0.7033  Virgin America   \n",
              "4     Can't Tell                     1.0000  Virgin America   \n",
              "\n",
              "  airline_sentiment_gold        name negativereason_gold  retweet_count  \\\n",
              "0                    NaN     cairdin                 NaN              0   \n",
              "1                    NaN    jnardino                 NaN              0   \n",
              "2                    NaN  yvonnalynn                 NaN              0   \n",
              "3                    NaN    jnardino                 NaN              0   \n",
              "4                    NaN    jnardino                 NaN              0   \n",
              "\n",
              "                                                text tweet_coord  \\\n",
              "0                @VirginAmerica What @dhepburn said.         NaN   \n",
              "1  @VirginAmerica plus you've added commercials t...         NaN   \n",
              "2  @VirginAmerica I didn't today... Must mean I n...         NaN   \n",
              "3  @VirginAmerica it's really aggressive to blast...         NaN   \n",
              "4  @VirginAmerica and it's a really big bad thing...         NaN   \n",
              "\n",
              "               tweet_created tweet_location               user_timezone  \n",
              "0  2015-02-24 11:35:52 -0800            NaN  Eastern Time (US & Canada)  \n",
              "1  2015-02-24 11:15:59 -0800            NaN  Pacific Time (US & Canada)  \n",
              "2  2015-02-24 11:15:48 -0800      Lets Play  Central Time (US & Canada)  \n",
              "3  2015-02-24 11:15:36 -0800            NaN  Pacific Time (US & Canada)  \n",
              "4  2015-02-24 11:14:45 -0800            NaN  Pacific Time (US & Canada)  "
            ],
            "text/html": [
              "\n",
              "  <div id=\"df-bdff041a-e429-4d5e-87e0-46b194384ebc\">\n",
              "    <div class=\"colab-df-container\">\n",
              "      <div>\n",
              "<style scoped>\n",
              "    .dataframe tbody tr th:only-of-type {\n",
              "        vertical-align: middle;\n",
              "    }\n",
              "\n",
              "    .dataframe tbody tr th {\n",
              "        vertical-align: top;\n",
              "    }\n",
              "\n",
              "    .dataframe thead th {\n",
              "        text-align: right;\n",
              "    }\n",
              "</style>\n",
              "<table border=\"1\" class=\"dataframe\">\n",
              "  <thead>\n",
              "    <tr style=\"text-align: right;\">\n",
              "      <th></th>\n",
              "      <th>tweet_id</th>\n",
              "      <th>airline_sentiment</th>\n",
              "      <th>airline_sentiment_confidence</th>\n",
              "      <th>negativereason</th>\n",
              "      <th>negativereason_confidence</th>\n",
              "      <th>airline</th>\n",
              "      <th>airline_sentiment_gold</th>\n",
              "      <th>name</th>\n",
              "      <th>negativereason_gold</th>\n",
              "      <th>retweet_count</th>\n",
              "      <th>text</th>\n",
              "      <th>tweet_coord</th>\n",
              "      <th>tweet_created</th>\n",
              "      <th>tweet_location</th>\n",
              "      <th>user_timezone</th>\n",
              "    </tr>\n",
              "  </thead>\n",
              "  <tbody>\n",
              "    <tr>\n",
              "      <th>0</th>\n",
              "      <td>570306133677760513</td>\n",
              "      <td>neutral</td>\n",
              "      <td>1.0000</td>\n",
              "      <td>NaN</td>\n",
              "      <td>NaN</td>\n",
              "      <td>Virgin America</td>\n",
              "      <td>NaN</td>\n",
              "      <td>cairdin</td>\n",
              "      <td>NaN</td>\n",
              "      <td>0</td>\n",
              "      <td>@VirginAmerica What @dhepburn said.</td>\n",
              "      <td>NaN</td>\n",
              "      <td>2015-02-24 11:35:52 -0800</td>\n",
              "      <td>NaN</td>\n",
              "      <td>Eastern Time (US &amp; Canada)</td>\n",
              "    </tr>\n",
              "    <tr>\n",
              "      <th>1</th>\n",
              "      <td>570301130888122368</td>\n",
              "      <td>positive</td>\n",
              "      <td>0.3486</td>\n",
              "      <td>NaN</td>\n",
              "      <td>0.0000</td>\n",
              "      <td>Virgin America</td>\n",
              "      <td>NaN</td>\n",
              "      <td>jnardino</td>\n",
              "      <td>NaN</td>\n",
              "      <td>0</td>\n",
              "      <td>@VirginAmerica plus you've added commercials t...</td>\n",
              "      <td>NaN</td>\n",
              "      <td>2015-02-24 11:15:59 -0800</td>\n",
              "      <td>NaN</td>\n",
              "      <td>Pacific Time (US &amp; Canada)</td>\n",
              "    </tr>\n",
              "    <tr>\n",
              "      <th>2</th>\n",
              "      <td>570301083672813571</td>\n",
              "      <td>neutral</td>\n",
              "      <td>0.6837</td>\n",
              "      <td>NaN</td>\n",
              "      <td>NaN</td>\n",
              "      <td>Virgin America</td>\n",
              "      <td>NaN</td>\n",
              "      <td>yvonnalynn</td>\n",
              "      <td>NaN</td>\n",
              "      <td>0</td>\n",
              "      <td>@VirginAmerica I didn't today... Must mean I n...</td>\n",
              "      <td>NaN</td>\n",
              "      <td>2015-02-24 11:15:48 -0800</td>\n",
              "      <td>Lets Play</td>\n",
              "      <td>Central Time (US &amp; Canada)</td>\n",
              "    </tr>\n",
              "    <tr>\n",
              "      <th>3</th>\n",
              "      <td>570301031407624196</td>\n",
              "      <td>negative</td>\n",
              "      <td>1.0000</td>\n",
              "      <td>Bad Flight</td>\n",
              "      <td>0.7033</td>\n",
              "      <td>Virgin America</td>\n",
              "      <td>NaN</td>\n",
              "      <td>jnardino</td>\n",
              "      <td>NaN</td>\n",
              "      <td>0</td>\n",
              "      <td>@VirginAmerica it's really aggressive to blast...</td>\n",
              "      <td>NaN</td>\n",
              "      <td>2015-02-24 11:15:36 -0800</td>\n",
              "      <td>NaN</td>\n",
              "      <td>Pacific Time (US &amp; Canada)</td>\n",
              "    </tr>\n",
              "    <tr>\n",
              "      <th>4</th>\n",
              "      <td>570300817074462722</td>\n",
              "      <td>negative</td>\n",
              "      <td>1.0000</td>\n",
              "      <td>Can't Tell</td>\n",
              "      <td>1.0000</td>\n",
              "      <td>Virgin America</td>\n",
              "      <td>NaN</td>\n",
              "      <td>jnardino</td>\n",
              "      <td>NaN</td>\n",
              "      <td>0</td>\n",
              "      <td>@VirginAmerica and it's a really big bad thing...</td>\n",
              "      <td>NaN</td>\n",
              "      <td>2015-02-24 11:14:45 -0800</td>\n",
              "      <td>NaN</td>\n",
              "      <td>Pacific Time (US &amp; Canada)</td>\n",
              "    </tr>\n",
              "  </tbody>\n",
              "</table>\n",
              "</div>\n",
              "      <button class=\"colab-df-convert\" onclick=\"convertToInteractive('df-bdff041a-e429-4d5e-87e0-46b194384ebc')\"\n",
              "              title=\"Convert this dataframe to an interactive table.\"\n",
              "              style=\"display:none;\">\n",
              "        \n",
              "  <svg xmlns=\"http://www.w3.org/2000/svg\" height=\"24px\"viewBox=\"0 0 24 24\"\n",
              "       width=\"24px\">\n",
              "    <path d=\"M0 0h24v24H0V0z\" fill=\"none\"/>\n",
              "    <path d=\"M18.56 5.44l.94 2.06.94-2.06 2.06-.94-2.06-.94-.94-2.06-.94 2.06-2.06.94zm-11 1L8.5 8.5l.94-2.06 2.06-.94-2.06-.94L8.5 2.5l-.94 2.06-2.06.94zm10 10l.94 2.06.94-2.06 2.06-.94-2.06-.94-.94-2.06-.94 2.06-2.06.94z\"/><path d=\"M17.41 7.96l-1.37-1.37c-.4-.4-.92-.59-1.43-.59-.52 0-1.04.2-1.43.59L10.3 9.45l-7.72 7.72c-.78.78-.78 2.05 0 2.83L4 21.41c.39.39.9.59 1.41.59.51 0 1.02-.2 1.41-.59l7.78-7.78 2.81-2.81c.8-.78.8-2.07 0-2.86zM5.41 20L4 18.59l7.72-7.72 1.47 1.35L5.41 20z\"/>\n",
              "  </svg>\n",
              "      </button>\n",
              "      \n",
              "  <style>\n",
              "    .colab-df-container {\n",
              "      display:flex;\n",
              "      flex-wrap:wrap;\n",
              "      gap: 12px;\n",
              "    }\n",
              "\n",
              "    .colab-df-convert {\n",
              "      background-color: #E8F0FE;\n",
              "      border: none;\n",
              "      border-radius: 50%;\n",
              "      cursor: pointer;\n",
              "      display: none;\n",
              "      fill: #1967D2;\n",
              "      height: 32px;\n",
              "      padding: 0 0 0 0;\n",
              "      width: 32px;\n",
              "    }\n",
              "\n",
              "    .colab-df-convert:hover {\n",
              "      background-color: #E2EBFA;\n",
              "      box-shadow: 0px 1px 2px rgba(60, 64, 67, 0.3), 0px 1px 3px 1px rgba(60, 64, 67, 0.15);\n",
              "      fill: #174EA6;\n",
              "    }\n",
              "\n",
              "    [theme=dark] .colab-df-convert {\n",
              "      background-color: #3B4455;\n",
              "      fill: #D2E3FC;\n",
              "    }\n",
              "\n",
              "    [theme=dark] .colab-df-convert:hover {\n",
              "      background-color: #434B5C;\n",
              "      box-shadow: 0px 1px 3px 1px rgba(0, 0, 0, 0.15);\n",
              "      filter: drop-shadow(0px 1px 2px rgba(0, 0, 0, 0.3));\n",
              "      fill: #FFFFFF;\n",
              "    }\n",
              "  </style>\n",
              "\n",
              "      <script>\n",
              "        const buttonEl =\n",
              "          document.querySelector('#df-bdff041a-e429-4d5e-87e0-46b194384ebc button.colab-df-convert');\n",
              "        buttonEl.style.display =\n",
              "          google.colab.kernel.accessAllowed ? 'block' : 'none';\n",
              "\n",
              "        async function convertToInteractive(key) {\n",
              "          const element = document.querySelector('#df-bdff041a-e429-4d5e-87e0-46b194384ebc');\n",
              "          const dataTable =\n",
              "            await google.colab.kernel.invokeFunction('convertToInteractive',\n",
              "                                                     [key], {});\n",
              "          if (!dataTable) return;\n",
              "\n",
              "          const docLinkHtml = 'Like what you see? Visit the ' +\n",
              "            '<a target=\"_blank\" href=https://colab.research.google.com/notebooks/data_table.ipynb>data table notebook</a>'\n",
              "            + ' to learn more about interactive tables.';\n",
              "          element.innerHTML = '';\n",
              "          dataTable['output_type'] = 'display_data';\n",
              "          await google.colab.output.renderOutput(dataTable, element);\n",
              "          const docLink = document.createElement('div');\n",
              "          docLink.innerHTML = docLinkHtml;\n",
              "          element.appendChild(docLink);\n",
              "        }\n",
              "      </script>\n",
              "    </div>\n",
              "  </div>\n",
              "  "
            ]
          },
          "metadata": {},
          "execution_count": 2
        }
      ],
      "source": [
        "# On charge les données sous forme de dataframe pandas, n'hésitez pas à vous renseigner sur ce que c'est\n",
        "df = pd.read_csv(\"data.csv\")\n",
        "df.head()"
      ]
    },
    {
      "cell_type": "code",
      "execution_count": 3,
      "metadata": {
        "colab": {
          "base_uri": "https://localhost:8080/"
        },
        "id": "3ovgrBIWucTF",
        "outputId": "5500dca2-973c-4d02-db32-c4b0d34487f7"
      },
      "outputs": [
        {
          "output_type": "execute_result",
          "data": {
            "text/plain": [
              "Index(['tweet_id', 'airline_sentiment', 'airline_sentiment_confidence',\n",
              "       'negativereason', 'negativereason_confidence', 'airline',\n",
              "       'airline_sentiment_gold', 'name', 'negativereason_gold',\n",
              "       'retweet_count', 'text', 'tweet_coord', 'tweet_created',\n",
              "       'tweet_location', 'user_timezone'],\n",
              "      dtype='object')"
            ]
          },
          "metadata": {},
          "execution_count": 3
        }
      ],
      "source": [
        "# Visualisation de la liste des colonnes du dataframe\n",
        "df.columns"
      ]
    },
    {
      "cell_type": "code",
      "execution_count": 4,
      "metadata": {
        "colab": {
          "base_uri": "https://localhost:8080/"
        },
        "id": "If2qvuMs40n8",
        "outputId": "6d8d9e57-bad0-40a6-cdb7-0fb8f8459923"
      },
      "outputs": [
        {
          "output_type": "stream",
          "name": "stdout",
          "text": [
            "@VirginAmerica What @dhepburn said.\n",
            "neutral\n"
          ]
        }
      ],
      "source": [
        "# Visualisation\n",
        "print(df['text'][0])\n",
        "print(df['airline_sentiment'][0])"
      ]
    },
    {
      "cell_type": "markdown",
      "metadata": {
        "id": "jCqWyWk-wD4V"
      },
      "source": [
        "**A faire** : on ne va garder que les colonnes 'text' et 'airline_sentiment' (les autres ne sont a priori pas vraiment utiles pour prédire le sentiment). Essayez de supprimer toutes les autres colonnes du dataframe"
      ]
    },
    {
      "cell_type": "code",
      "execution_count": 5,
      "metadata": {
        "id": "Hum_cPakx6l8",
        "colab": {
          "base_uri": "https://localhost:8080/",
          "height": 206
        },
        "outputId": "e6b8e3c4-6746-4e06-911c-2df76d264f69"
      },
      "outputs": [
        {
          "output_type": "execute_result",
          "data": {
            "text/plain": [
              "  airline_sentiment                                               text\n",
              "0           neutral                @VirginAmerica What @dhepburn said.\n",
              "1          positive  @VirginAmerica plus you've added commercials t...\n",
              "2           neutral  @VirginAmerica I didn't today... Must mean I n...\n",
              "3          negative  @VirginAmerica it's really aggressive to blast...\n",
              "4          negative  @VirginAmerica and it's a really big bad thing..."
            ],
            "text/html": [
              "\n",
              "  <div id=\"df-315af1a1-1703-4c4a-8345-c495bcbd79b4\">\n",
              "    <div class=\"colab-df-container\">\n",
              "      <div>\n",
              "<style scoped>\n",
              "    .dataframe tbody tr th:only-of-type {\n",
              "        vertical-align: middle;\n",
              "    }\n",
              "\n",
              "    .dataframe tbody tr th {\n",
              "        vertical-align: top;\n",
              "    }\n",
              "\n",
              "    .dataframe thead th {\n",
              "        text-align: right;\n",
              "    }\n",
              "</style>\n",
              "<table border=\"1\" class=\"dataframe\">\n",
              "  <thead>\n",
              "    <tr style=\"text-align: right;\">\n",
              "      <th></th>\n",
              "      <th>airline_sentiment</th>\n",
              "      <th>text</th>\n",
              "    </tr>\n",
              "  </thead>\n",
              "  <tbody>\n",
              "    <tr>\n",
              "      <th>0</th>\n",
              "      <td>neutral</td>\n",
              "      <td>@VirginAmerica What @dhepburn said.</td>\n",
              "    </tr>\n",
              "    <tr>\n",
              "      <th>1</th>\n",
              "      <td>positive</td>\n",
              "      <td>@VirginAmerica plus you've added commercials t...</td>\n",
              "    </tr>\n",
              "    <tr>\n",
              "      <th>2</th>\n",
              "      <td>neutral</td>\n",
              "      <td>@VirginAmerica I didn't today... Must mean I n...</td>\n",
              "    </tr>\n",
              "    <tr>\n",
              "      <th>3</th>\n",
              "      <td>negative</td>\n",
              "      <td>@VirginAmerica it's really aggressive to blast...</td>\n",
              "    </tr>\n",
              "    <tr>\n",
              "      <th>4</th>\n",
              "      <td>negative</td>\n",
              "      <td>@VirginAmerica and it's a really big bad thing...</td>\n",
              "    </tr>\n",
              "  </tbody>\n",
              "</table>\n",
              "</div>\n",
              "      <button class=\"colab-df-convert\" onclick=\"convertToInteractive('df-315af1a1-1703-4c4a-8345-c495bcbd79b4')\"\n",
              "              title=\"Convert this dataframe to an interactive table.\"\n",
              "              style=\"display:none;\">\n",
              "        \n",
              "  <svg xmlns=\"http://www.w3.org/2000/svg\" height=\"24px\"viewBox=\"0 0 24 24\"\n",
              "       width=\"24px\">\n",
              "    <path d=\"M0 0h24v24H0V0z\" fill=\"none\"/>\n",
              "    <path d=\"M18.56 5.44l.94 2.06.94-2.06 2.06-.94-2.06-.94-.94-2.06-.94 2.06-2.06.94zm-11 1L8.5 8.5l.94-2.06 2.06-.94-2.06-.94L8.5 2.5l-.94 2.06-2.06.94zm10 10l.94 2.06.94-2.06 2.06-.94-2.06-.94-.94-2.06-.94 2.06-2.06.94z\"/><path d=\"M17.41 7.96l-1.37-1.37c-.4-.4-.92-.59-1.43-.59-.52 0-1.04.2-1.43.59L10.3 9.45l-7.72 7.72c-.78.78-.78 2.05 0 2.83L4 21.41c.39.39.9.59 1.41.59.51 0 1.02-.2 1.41-.59l7.78-7.78 2.81-2.81c.8-.78.8-2.07 0-2.86zM5.41 20L4 18.59l7.72-7.72 1.47 1.35L5.41 20z\"/>\n",
              "  </svg>\n",
              "      </button>\n",
              "      \n",
              "  <style>\n",
              "    .colab-df-container {\n",
              "      display:flex;\n",
              "      flex-wrap:wrap;\n",
              "      gap: 12px;\n",
              "    }\n",
              "\n",
              "    .colab-df-convert {\n",
              "      background-color: #E8F0FE;\n",
              "      border: none;\n",
              "      border-radius: 50%;\n",
              "      cursor: pointer;\n",
              "      display: none;\n",
              "      fill: #1967D2;\n",
              "      height: 32px;\n",
              "      padding: 0 0 0 0;\n",
              "      width: 32px;\n",
              "    }\n",
              "\n",
              "    .colab-df-convert:hover {\n",
              "      background-color: #E2EBFA;\n",
              "      box-shadow: 0px 1px 2px rgba(60, 64, 67, 0.3), 0px 1px 3px 1px rgba(60, 64, 67, 0.15);\n",
              "      fill: #174EA6;\n",
              "    }\n",
              "\n",
              "    [theme=dark] .colab-df-convert {\n",
              "      background-color: #3B4455;\n",
              "      fill: #D2E3FC;\n",
              "    }\n",
              "\n",
              "    [theme=dark] .colab-df-convert:hover {\n",
              "      background-color: #434B5C;\n",
              "      box-shadow: 0px 1px 3px 1px rgba(0, 0, 0, 0.15);\n",
              "      filter: drop-shadow(0px 1px 2px rgba(0, 0, 0, 0.3));\n",
              "      fill: #FFFFFF;\n",
              "    }\n",
              "  </style>\n",
              "\n",
              "      <script>\n",
              "        const buttonEl =\n",
              "          document.querySelector('#df-315af1a1-1703-4c4a-8345-c495bcbd79b4 button.colab-df-convert');\n",
              "        buttonEl.style.display =\n",
              "          google.colab.kernel.accessAllowed ? 'block' : 'none';\n",
              "\n",
              "        async function convertToInteractive(key) {\n",
              "          const element = document.querySelector('#df-315af1a1-1703-4c4a-8345-c495bcbd79b4');\n",
              "          const dataTable =\n",
              "            await google.colab.kernel.invokeFunction('convertToInteractive',\n",
              "                                                     [key], {});\n",
              "          if (!dataTable) return;\n",
              "\n",
              "          const docLinkHtml = 'Like what you see? Visit the ' +\n",
              "            '<a target=\"_blank\" href=https://colab.research.google.com/notebooks/data_table.ipynb>data table notebook</a>'\n",
              "            + ' to learn more about interactive tables.';\n",
              "          element.innerHTML = '';\n",
              "          dataTable['output_type'] = 'display_data';\n",
              "          await google.colab.output.renderOutput(dataTable, element);\n",
              "          const docLink = document.createElement('div');\n",
              "          docLink.innerHTML = docLinkHtml;\n",
              "          element.appendChild(docLink);\n",
              "        }\n",
              "      </script>\n",
              "    </div>\n",
              "  </div>\n",
              "  "
            ]
          },
          "metadata": {},
          "execution_count": 5
        }
      ],
      "source": [
        "df = df.drop(columns=['tweet_id', 'airline_sentiment_confidence', 'negativereason', 'negativereason_confidence', 'airline', 'airline_sentiment_gold', 'name', 'negativereason_gold', 'retweet_count', 'tweet_coord', 'tweet_created', 'tweet_location', 'user_timezone'])\n",
        "df.head()"
      ]
    },
    {
      "cell_type": "markdown",
      "metadata": {
        "id": "lwAjJeJ_yNXE"
      },
      "source": [
        "**A faire** : la colonne 'airline_sentiment' contient les valeurs 'positive', 'neutral', et 'negative'. Essayez d'essayer de les changer en respectivement 1, 0 et -1\n",
        "\n",
        "En effet, cette colonne constitue les labels de nos données d'entrainement, et on a besoin de les transformer en valeurs numériques"
      ]
    },
    {
      "cell_type": "code",
      "execution_count": 6,
      "metadata": {
        "id": "OVDPLTRRymhT",
        "colab": {
          "base_uri": "https://localhost:8080/",
          "height": 206
        },
        "outputId": "e47e9334-3b7a-411b-808f-d12a3c2d88d7"
      },
      "outputs": [
        {
          "output_type": "execute_result",
          "data": {
            "text/plain": [
              "   airline_sentiment                                               text\n",
              "0                  0                @VirginAmerica What @dhepburn said.\n",
              "1                  1  @VirginAmerica plus you've added commercials t...\n",
              "2                  0  @VirginAmerica I didn't today... Must mean I n...\n",
              "3                 -1  @VirginAmerica it's really aggressive to blast...\n",
              "4                 -1  @VirginAmerica and it's a really big bad thing..."
            ],
            "text/html": [
              "\n",
              "  <div id=\"df-b44a98d1-db89-4ed2-96a8-efaec9b2ca72\">\n",
              "    <div class=\"colab-df-container\">\n",
              "      <div>\n",
              "<style scoped>\n",
              "    .dataframe tbody tr th:only-of-type {\n",
              "        vertical-align: middle;\n",
              "    }\n",
              "\n",
              "    .dataframe tbody tr th {\n",
              "        vertical-align: top;\n",
              "    }\n",
              "\n",
              "    .dataframe thead th {\n",
              "        text-align: right;\n",
              "    }\n",
              "</style>\n",
              "<table border=\"1\" class=\"dataframe\">\n",
              "  <thead>\n",
              "    <tr style=\"text-align: right;\">\n",
              "      <th></th>\n",
              "      <th>airline_sentiment</th>\n",
              "      <th>text</th>\n",
              "    </tr>\n",
              "  </thead>\n",
              "  <tbody>\n",
              "    <tr>\n",
              "      <th>0</th>\n",
              "      <td>0</td>\n",
              "      <td>@VirginAmerica What @dhepburn said.</td>\n",
              "    </tr>\n",
              "    <tr>\n",
              "      <th>1</th>\n",
              "      <td>1</td>\n",
              "      <td>@VirginAmerica plus you've added commercials t...</td>\n",
              "    </tr>\n",
              "    <tr>\n",
              "      <th>2</th>\n",
              "      <td>0</td>\n",
              "      <td>@VirginAmerica I didn't today... Must mean I n...</td>\n",
              "    </tr>\n",
              "    <tr>\n",
              "      <th>3</th>\n",
              "      <td>-1</td>\n",
              "      <td>@VirginAmerica it's really aggressive to blast...</td>\n",
              "    </tr>\n",
              "    <tr>\n",
              "      <th>4</th>\n",
              "      <td>-1</td>\n",
              "      <td>@VirginAmerica and it's a really big bad thing...</td>\n",
              "    </tr>\n",
              "  </tbody>\n",
              "</table>\n",
              "</div>\n",
              "      <button class=\"colab-df-convert\" onclick=\"convertToInteractive('df-b44a98d1-db89-4ed2-96a8-efaec9b2ca72')\"\n",
              "              title=\"Convert this dataframe to an interactive table.\"\n",
              "              style=\"display:none;\">\n",
              "        \n",
              "  <svg xmlns=\"http://www.w3.org/2000/svg\" height=\"24px\"viewBox=\"0 0 24 24\"\n",
              "       width=\"24px\">\n",
              "    <path d=\"M0 0h24v24H0V0z\" fill=\"none\"/>\n",
              "    <path d=\"M18.56 5.44l.94 2.06.94-2.06 2.06-.94-2.06-.94-.94-2.06-.94 2.06-2.06.94zm-11 1L8.5 8.5l.94-2.06 2.06-.94-2.06-.94L8.5 2.5l-.94 2.06-2.06.94zm10 10l.94 2.06.94-2.06 2.06-.94-2.06-.94-.94-2.06-.94 2.06-2.06.94z\"/><path d=\"M17.41 7.96l-1.37-1.37c-.4-.4-.92-.59-1.43-.59-.52 0-1.04.2-1.43.59L10.3 9.45l-7.72 7.72c-.78.78-.78 2.05 0 2.83L4 21.41c.39.39.9.59 1.41.59.51 0 1.02-.2 1.41-.59l7.78-7.78 2.81-2.81c.8-.78.8-2.07 0-2.86zM5.41 20L4 18.59l7.72-7.72 1.47 1.35L5.41 20z\"/>\n",
              "  </svg>\n",
              "      </button>\n",
              "      \n",
              "  <style>\n",
              "    .colab-df-container {\n",
              "      display:flex;\n",
              "      flex-wrap:wrap;\n",
              "      gap: 12px;\n",
              "    }\n",
              "\n",
              "    .colab-df-convert {\n",
              "      background-color: #E8F0FE;\n",
              "      border: none;\n",
              "      border-radius: 50%;\n",
              "      cursor: pointer;\n",
              "      display: none;\n",
              "      fill: #1967D2;\n",
              "      height: 32px;\n",
              "      padding: 0 0 0 0;\n",
              "      width: 32px;\n",
              "    }\n",
              "\n",
              "    .colab-df-convert:hover {\n",
              "      background-color: #E2EBFA;\n",
              "      box-shadow: 0px 1px 2px rgba(60, 64, 67, 0.3), 0px 1px 3px 1px rgba(60, 64, 67, 0.15);\n",
              "      fill: #174EA6;\n",
              "    }\n",
              "\n",
              "    [theme=dark] .colab-df-convert {\n",
              "      background-color: #3B4455;\n",
              "      fill: #D2E3FC;\n",
              "    }\n",
              "\n",
              "    [theme=dark] .colab-df-convert:hover {\n",
              "      background-color: #434B5C;\n",
              "      box-shadow: 0px 1px 3px 1px rgba(0, 0, 0, 0.15);\n",
              "      filter: drop-shadow(0px 1px 2px rgba(0, 0, 0, 0.3));\n",
              "      fill: #FFFFFF;\n",
              "    }\n",
              "  </style>\n",
              "\n",
              "      <script>\n",
              "        const buttonEl =\n",
              "          document.querySelector('#df-b44a98d1-db89-4ed2-96a8-efaec9b2ca72 button.colab-df-convert');\n",
              "        buttonEl.style.display =\n",
              "          google.colab.kernel.accessAllowed ? 'block' : 'none';\n",
              "\n",
              "        async function convertToInteractive(key) {\n",
              "          const element = document.querySelector('#df-b44a98d1-db89-4ed2-96a8-efaec9b2ca72');\n",
              "          const dataTable =\n",
              "            await google.colab.kernel.invokeFunction('convertToInteractive',\n",
              "                                                     [key], {});\n",
              "          if (!dataTable) return;\n",
              "\n",
              "          const docLinkHtml = 'Like what you see? Visit the ' +\n",
              "            '<a target=\"_blank\" href=https://colab.research.google.com/notebooks/data_table.ipynb>data table notebook</a>'\n",
              "            + ' to learn more about interactive tables.';\n",
              "          element.innerHTML = '';\n",
              "          dataTable['output_type'] = 'display_data';\n",
              "          await google.colab.output.renderOutput(dataTable, element);\n",
              "          const docLink = document.createElement('div');\n",
              "          docLink.innerHTML = docLinkHtml;\n",
              "          element.appendChild(docLink);\n",
              "        }\n",
              "      </script>\n",
              "    </div>\n",
              "  </div>\n",
              "  "
            ]
          },
          "metadata": {},
          "execution_count": 6
        }
      ],
      "source": [
        "def encode_sentiment(sentiment):\n",
        "    if sentiment == 'neutral':\n",
        "        return 0\n",
        "    elif sentiment == 'positive':\n",
        "        return 1\n",
        "    else:\n",
        "        return -1\n",
        "    \n",
        "df['airline_sentiment'] = df['airline_sentiment'].apply(encode_sentiment)\n",
        "df.head()"
      ]
    },
    {
      "cell_type": "markdown",
      "metadata": {
        "id": "dfhG7IXkyt6E"
      },
      "source": [
        "# I) Preprocessing du texte"
      ]
    },
    {
      "cell_type": "markdown",
      "metadata": {
        "id": "ADVYegmGyydz"
      },
      "source": [
        "Le but de cette section est de nettoyer le texte du jeu de données. On peut par exemple supprimer les majuscules (afin que la machine ne considère pas les mots \"voiture\" et \"Voiture\" comme étant différents). On peut aussi supprimer les liens, les emojis, les accents... tout ce que vous voulez !\n",
        "\n",
        "Vous êtes totalement libres à ce niveau là, essayez de traiter le texte de la manière la plus pertinente selon vous."
      ]
    },
    {
      "cell_type": "markdown",
      "metadata": {
        "id": "-1vazosSzPlj"
      },
      "source": [
        "**A faire** : Ecrivez une fonction qui nettoie une chaine de caractères représentant un commentaire. On l'appliquera par la suite au dataframe entier.\n",
        "Bien sûr n'hésitez pas à écrire des fonctions intermédiaires"
      ]
    },
    {
      "cell_type": "code",
      "execution_count": 8,
      "metadata": {
        "id": "FhInV-SKzaCz",
        "colab": {
          "base_uri": "https://localhost:8080/"
        },
        "outputId": "e2b49a16-ec76-447b-c9d2-591787a7a3c7"
      },
      "outputs": [
        {
          "output_type": "stream",
          "name": "stdout",
          "text": [
            "[nltk_data] Downloading package punkt to /root/nltk_data...\n",
            "[nltk_data]   Unzipping tokenizers/punkt.zip.\n",
            "[nltk_data] Downloading package stopwords to /root/nltk_data...\n",
            "[nltk_data]   Unzipping corpora/stopwords.zip.\n",
            "Text :  @VirginAmerica it's really aggressive to blast obnoxious \"entertainment\" in your guests' faces &amp; they have little recourse\n",
            "Text processed :  realli aggress blast obnoxi entertain guest face amp littl recours\n"
          ]
        }
      ],
      "source": [
        "import re \n",
        "import string\n",
        "from nltk import word_tokenize\n",
        "from nltk.stem.porter import PorterStemmer\n",
        "from nltk.corpus import stopwords\n",
        "import nltk\n",
        "nltk.download('punkt')\n",
        "nltk.download('stopwords')\n",
        "stop_words = stopwords.words('english')\n",
        "\n",
        "def preprocess_text(text):\n",
        "    \"\"\"\n",
        "    Cette fonction prend en argument une chaine de caractères text \n",
        "    (par exemple : text=\"that was a very nice flight ! :D\"),\n",
        "    nettoie le texte (par exemple supprime les emojis), et renvoie la variable text\n",
        "    \"\"\"\n",
        "    text = text.lower()\n",
        "    \n",
        "    # On retire les mentions et les hashtag\n",
        "    text = re.sub(\"(@|#)[a-zA-Z0-9]*(\\\\s|$)\", \" \", text)\n",
        "    \n",
        "    # On retire la ponctuation\n",
        "    text = \"\".join([char for char in text if char not in string.punctuation])\n",
        "    \n",
        "    # On retire les chiffres\n",
        "    text = re.sub(\"[0-9]\", \"\", text)\n",
        "    \n",
        "    # On tokenize (càd on transforme la chaine de caractères \"un bateau bleu\" en une liste ['un', 'bateau', 'bleu'])\n",
        "    words = word_tokenize(text)\n",
        "    \n",
        "    # On retire les 'stopwords' (les mots qui reviennent le plus souvent, comme \"me\", \"my\"...)\n",
        "    filtered_words = [word for word in words if word not in stop_words]\n",
        "    \n",
        "    # On lemmatise (on ramène les mots à leur racine, par exemple on transforme \"universally\" en \"univers\")\n",
        "    porter = PorterStemmer()\n",
        "    stemmed = [porter.stem(word) for word in filtered_words]\n",
        "    \n",
        "    # On transforme la liste en chaine de caractères\n",
        "    res = ' '.join(stemmed)\n",
        "    \n",
        "    return res\n",
        "\n",
        "text = df['text'][3]\n",
        "print(\"Text : \", text)\n",
        "print(\"Text processed : \", preprocess_text(text))"
      ]
    },
    {
      "cell_type": "markdown",
      "metadata": {
        "id": "qUYwU_kCz3vF"
      },
      "source": [
        "**A faire** : A présent, on peut appliquer cette fonction à toutes les lignes du dataframe"
      ]
    },
    {
      "cell_type": "code",
      "execution_count": 9,
      "metadata": {
        "id": "b5P-CuaY0BqD",
        "colab": {
          "base_uri": "https://localhost:8080/",
          "height": 206
        },
        "outputId": "ee7927c8-ad43-4d63-d9ec-1a9e3dbb1123"
      },
      "outputs": [
        {
          "output_type": "execute_result",
          "data": {
            "text/plain": [
              "   airline_sentiment                                               text  \\\n",
              "0                  0                @VirginAmerica What @dhepburn said.   \n",
              "1                  1  @VirginAmerica plus you've added commercials t...   \n",
              "2                  0  @VirginAmerica I didn't today... Must mean I n...   \n",
              "3                 -1  @VirginAmerica it's really aggressive to blast...   \n",
              "4                 -1  @VirginAmerica and it's a really big bad thing...   \n",
              "\n",
              "                                      text_processed  \n",
              "0                                               said  \n",
              "1                  plu youv ad commerci experi tacki  \n",
              "2         didnt today must mean need take anoth trip  \n",
              "3  realli aggress blast obnoxi entertain guest fa...  \n",
              "4                               realli big bad thing  "
            ],
            "text/html": [
              "\n",
              "  <div id=\"df-02b2f31c-16f3-4f3b-a53a-e5eeb69d1d2c\">\n",
              "    <div class=\"colab-df-container\">\n",
              "      <div>\n",
              "<style scoped>\n",
              "    .dataframe tbody tr th:only-of-type {\n",
              "        vertical-align: middle;\n",
              "    }\n",
              "\n",
              "    .dataframe tbody tr th {\n",
              "        vertical-align: top;\n",
              "    }\n",
              "\n",
              "    .dataframe thead th {\n",
              "        text-align: right;\n",
              "    }\n",
              "</style>\n",
              "<table border=\"1\" class=\"dataframe\">\n",
              "  <thead>\n",
              "    <tr style=\"text-align: right;\">\n",
              "      <th></th>\n",
              "      <th>airline_sentiment</th>\n",
              "      <th>text</th>\n",
              "      <th>text_processed</th>\n",
              "    </tr>\n",
              "  </thead>\n",
              "  <tbody>\n",
              "    <tr>\n",
              "      <th>0</th>\n",
              "      <td>0</td>\n",
              "      <td>@VirginAmerica What @dhepburn said.</td>\n",
              "      <td>said</td>\n",
              "    </tr>\n",
              "    <tr>\n",
              "      <th>1</th>\n",
              "      <td>1</td>\n",
              "      <td>@VirginAmerica plus you've added commercials t...</td>\n",
              "      <td>plu youv ad commerci experi tacki</td>\n",
              "    </tr>\n",
              "    <tr>\n",
              "      <th>2</th>\n",
              "      <td>0</td>\n",
              "      <td>@VirginAmerica I didn't today... Must mean I n...</td>\n",
              "      <td>didnt today must mean need take anoth trip</td>\n",
              "    </tr>\n",
              "    <tr>\n",
              "      <th>3</th>\n",
              "      <td>-1</td>\n",
              "      <td>@VirginAmerica it's really aggressive to blast...</td>\n",
              "      <td>realli aggress blast obnoxi entertain guest fa...</td>\n",
              "    </tr>\n",
              "    <tr>\n",
              "      <th>4</th>\n",
              "      <td>-1</td>\n",
              "      <td>@VirginAmerica and it's a really big bad thing...</td>\n",
              "      <td>realli big bad thing</td>\n",
              "    </tr>\n",
              "  </tbody>\n",
              "</table>\n",
              "</div>\n",
              "      <button class=\"colab-df-convert\" onclick=\"convertToInteractive('df-02b2f31c-16f3-4f3b-a53a-e5eeb69d1d2c')\"\n",
              "              title=\"Convert this dataframe to an interactive table.\"\n",
              "              style=\"display:none;\">\n",
              "        \n",
              "  <svg xmlns=\"http://www.w3.org/2000/svg\" height=\"24px\"viewBox=\"0 0 24 24\"\n",
              "       width=\"24px\">\n",
              "    <path d=\"M0 0h24v24H0V0z\" fill=\"none\"/>\n",
              "    <path d=\"M18.56 5.44l.94 2.06.94-2.06 2.06-.94-2.06-.94-.94-2.06-.94 2.06-2.06.94zm-11 1L8.5 8.5l.94-2.06 2.06-.94-2.06-.94L8.5 2.5l-.94 2.06-2.06.94zm10 10l.94 2.06.94-2.06 2.06-.94-2.06-.94-.94-2.06-.94 2.06-2.06.94z\"/><path d=\"M17.41 7.96l-1.37-1.37c-.4-.4-.92-.59-1.43-.59-.52 0-1.04.2-1.43.59L10.3 9.45l-7.72 7.72c-.78.78-.78 2.05 0 2.83L4 21.41c.39.39.9.59 1.41.59.51 0 1.02-.2 1.41-.59l7.78-7.78 2.81-2.81c.8-.78.8-2.07 0-2.86zM5.41 20L4 18.59l7.72-7.72 1.47 1.35L5.41 20z\"/>\n",
              "  </svg>\n",
              "      </button>\n",
              "      \n",
              "  <style>\n",
              "    .colab-df-container {\n",
              "      display:flex;\n",
              "      flex-wrap:wrap;\n",
              "      gap: 12px;\n",
              "    }\n",
              "\n",
              "    .colab-df-convert {\n",
              "      background-color: #E8F0FE;\n",
              "      border: none;\n",
              "      border-radius: 50%;\n",
              "      cursor: pointer;\n",
              "      display: none;\n",
              "      fill: #1967D2;\n",
              "      height: 32px;\n",
              "      padding: 0 0 0 0;\n",
              "      width: 32px;\n",
              "    }\n",
              "\n",
              "    .colab-df-convert:hover {\n",
              "      background-color: #E2EBFA;\n",
              "      box-shadow: 0px 1px 2px rgba(60, 64, 67, 0.3), 0px 1px 3px 1px rgba(60, 64, 67, 0.15);\n",
              "      fill: #174EA6;\n",
              "    }\n",
              "\n",
              "    [theme=dark] .colab-df-convert {\n",
              "      background-color: #3B4455;\n",
              "      fill: #D2E3FC;\n",
              "    }\n",
              "\n",
              "    [theme=dark] .colab-df-convert:hover {\n",
              "      background-color: #434B5C;\n",
              "      box-shadow: 0px 1px 3px 1px rgba(0, 0, 0, 0.15);\n",
              "      filter: drop-shadow(0px 1px 2px rgba(0, 0, 0, 0.3));\n",
              "      fill: #FFFFFF;\n",
              "    }\n",
              "  </style>\n",
              "\n",
              "      <script>\n",
              "        const buttonEl =\n",
              "          document.querySelector('#df-02b2f31c-16f3-4f3b-a53a-e5eeb69d1d2c button.colab-df-convert');\n",
              "        buttonEl.style.display =\n",
              "          google.colab.kernel.accessAllowed ? 'block' : 'none';\n",
              "\n",
              "        async function convertToInteractive(key) {\n",
              "          const element = document.querySelector('#df-02b2f31c-16f3-4f3b-a53a-e5eeb69d1d2c');\n",
              "          const dataTable =\n",
              "            await google.colab.kernel.invokeFunction('convertToInteractive',\n",
              "                                                     [key], {});\n",
              "          if (!dataTable) return;\n",
              "\n",
              "          const docLinkHtml = 'Like what you see? Visit the ' +\n",
              "            '<a target=\"_blank\" href=https://colab.research.google.com/notebooks/data_table.ipynb>data table notebook</a>'\n",
              "            + ' to learn more about interactive tables.';\n",
              "          element.innerHTML = '';\n",
              "          dataTable['output_type'] = 'display_data';\n",
              "          await google.colab.output.renderOutput(dataTable, element);\n",
              "          const docLink = document.createElement('div');\n",
              "          docLink.innerHTML = docLinkHtml;\n",
              "          element.appendChild(docLink);\n",
              "        }\n",
              "      </script>\n",
              "    </div>\n",
              "  </div>\n",
              "  "
            ]
          },
          "metadata": {},
          "execution_count": 9
        }
      ],
      "source": [
        "df['text_processed'] = df['text'].apply(preprocess_text)\n",
        "df.head()"
      ]
    },
    {
      "cell_type": "markdown",
      "metadata": {
        "id": "xXx8oO1A0uoy"
      },
      "source": [
        "# II) Représentation des données"
      ]
    },
    {
      "cell_type": "markdown",
      "metadata": {
        "id": "Ehp64Uks0w4U"
      },
      "source": [
        "Cette section consiste à transformer le texte en vecteurs, afin d'utiliser ensuite ces vecteurs pour notre modèle.\n",
        "En effet, un modèle ne peut pas prendre en entrée une chaine de caractères, on doit obligatoirement lui fournir un vecteur en entrée. Il faut donc trouver le moyen de transformer nos messages en vecteurs, et c'est ce qu'on appelle la représentation de données.\n",
        "\n",
        "Pour la représentation de données, vous avez le choix : Bag-of-words, TF-IDF, Doc2Vec, ... (renseignez-vous dessus)"
      ]
    },
    {
      "cell_type": "markdown",
      "metadata": {
        "id": "QCz4Er6Rm5AA"
      },
      "source": [
        "## 1) Bag-of-words "
      ]
    },
    {
      "cell_type": "markdown",
      "metadata": {
        "id": "w2IKcATGm5AB"
      },
      "source": [
        "Bag-of-words est une technique de représentation de données très élémentaire et qui peut parfois être efficace. Elle consiste à transformer chaque phrase en un vecteur de 0 et de 1, avec pour seule règle de mettre un 1 lorsqu'un certain mot est présent.\n",
        "\n",
        "Par exemple, si les mots de notre vocabulaire sont \"bateau\", \"avion\", \"je\", \"suis\", \"un\", on pourrait transformer la phrase \"je suis un bateau\" en [1, 0, 1, 1, 1].\n",
        "En effet, on met un 1 au début pour traduire la présence de notre premier mot (\"bateau\"), puis un 0 car le mot \"avion\" n'est pas présent dans la phrase, puis un 1 pour le mot \"je\"...\n",
        "\n",
        "(NB : on peut aussi mettre des entiers plus grands que 1 lorsqu'un même mot revient plusieurs fois au sein de la phrase)\n",
        "\n",
        "Comme vous pouvez le deviner, cette méthode présente des inconvénients car le vecteur résultant ne prend pas du tout en compte de l'ordre des mots dans la phrase, qui a évidemment une importance majeure. Pour en tenir compte, il faudra se tourner vers des méthodes de représentation de données comme Word2Vec ou Doc2Vec qui ont un fonctionnement plus complexe."
      ]
    },
    {
      "cell_type": "markdown",
      "metadata": {
        "id": "EDOO2Tqgm5AB"
      },
      "source": [
        "En ce qui concerne l'implémentation, on pourrait programmer le bag of words à la main mais ici on va plutôt utiliser un module de scikit-learn."
      ]
    },
    {
      "cell_type": "code",
      "execution_count": 10,
      "metadata": {
        "colab": {
          "base_uri": "https://localhost:8080/"
        },
        "id": "_1NbX48Mm5AC",
        "outputId": "3a371ac9-5634-4b12-aae1-0697ee99c712"
      },
      "outputs": [
        {
          "output_type": "stream",
          "name": "stderr",
          "text": [
            "/usr/local/lib/python3.7/dist-packages/sklearn/utils/deprecation.py:87: FutureWarning: Function get_feature_names is deprecated; get_feature_names is deprecated in 1.0 and will be removed in 1.2. Please use get_feature_names_out instead.\n",
            "  warnings.warn(msg, category=FutureWarning)\n"
          ]
        }
      ],
      "source": [
        "from sklearn.feature_extraction.text import CountVectorizer\n",
        "vectorizer = CountVectorizer()\n",
        "vectorizer.fit(df['text_processed'])\n",
        "\n",
        "X = vectorizer.transform(df['text_processed'])\n",
        "df_bow = pd.DataFrame(X.toarray(), columns=vectorizer.get_feature_names())\n",
        "df_bow['airline_sentiment'] = df['airline_sentiment']"
      ]
    },
    {
      "cell_type": "code",
      "execution_count": 11,
      "metadata": {
        "colab": {
          "base_uri": "https://localhost:8080/",
          "height": 299
        },
        "id": "Ok5NdCMIm5AC",
        "outputId": "108fbefc-d051-4d6a-cd8a-73a4d34d40e1"
      },
      "outputs": [
        {
          "output_type": "execute_result",
          "data": {
            "text/plain": [
              "   aa  aaaand  aaba  aacom  aacustomerservic  aadavantag  aadfw  aadv  \\\n",
              "0   0       0     0      0                 0           0      0     0   \n",
              "1   0       0     0      0                 0           0      0     0   \n",
              "2   0       0     0      0                 0           0      0     0   \n",
              "3   0       0     0      0                 0           0      0     0   \n",
              "4   0       0     0      0                 0           0      0     0   \n",
              "\n",
              "   aadvantag  aal  ...  zigzag  zip  zipper  zone  zoom  zrhairport  zuke  \\\n",
              "0          0    0  ...       0    0       0     0     0           0     0   \n",
              "1          0    0  ...       0    0       0     0     0           0     0   \n",
              "2          0    0  ...       0    0       0     0     0           0     0   \n",
              "3          0    0  ...       0    0       0     0     0           0     0   \n",
              "4          0    0  ...       0    0       0     0     0           0     0   \n",
              "\n",
              "   zurich  zurichnew  airline_sentiment  \n",
              "0       0          0                  0  \n",
              "1       0          0                  1  \n",
              "2       0          0                  0  \n",
              "3       0          0                 -1  \n",
              "4       0          0                 -1  \n",
              "\n",
              "[5 rows x 9851 columns]"
            ],
            "text/html": [
              "\n",
              "  <div id=\"df-a460774b-7272-45c6-94f8-5518ff523969\">\n",
              "    <div class=\"colab-df-container\">\n",
              "      <div>\n",
              "<style scoped>\n",
              "    .dataframe tbody tr th:only-of-type {\n",
              "        vertical-align: middle;\n",
              "    }\n",
              "\n",
              "    .dataframe tbody tr th {\n",
              "        vertical-align: top;\n",
              "    }\n",
              "\n",
              "    .dataframe thead th {\n",
              "        text-align: right;\n",
              "    }\n",
              "</style>\n",
              "<table border=\"1\" class=\"dataframe\">\n",
              "  <thead>\n",
              "    <tr style=\"text-align: right;\">\n",
              "      <th></th>\n",
              "      <th>aa</th>\n",
              "      <th>aaaand</th>\n",
              "      <th>aaba</th>\n",
              "      <th>aacom</th>\n",
              "      <th>aacustomerservic</th>\n",
              "      <th>aadavantag</th>\n",
              "      <th>aadfw</th>\n",
              "      <th>aadv</th>\n",
              "      <th>aadvantag</th>\n",
              "      <th>aal</th>\n",
              "      <th>...</th>\n",
              "      <th>zigzag</th>\n",
              "      <th>zip</th>\n",
              "      <th>zipper</th>\n",
              "      <th>zone</th>\n",
              "      <th>zoom</th>\n",
              "      <th>zrhairport</th>\n",
              "      <th>zuke</th>\n",
              "      <th>zurich</th>\n",
              "      <th>zurichnew</th>\n",
              "      <th>airline_sentiment</th>\n",
              "    </tr>\n",
              "  </thead>\n",
              "  <tbody>\n",
              "    <tr>\n",
              "      <th>0</th>\n",
              "      <td>0</td>\n",
              "      <td>0</td>\n",
              "      <td>0</td>\n",
              "      <td>0</td>\n",
              "      <td>0</td>\n",
              "      <td>0</td>\n",
              "      <td>0</td>\n",
              "      <td>0</td>\n",
              "      <td>0</td>\n",
              "      <td>0</td>\n",
              "      <td>...</td>\n",
              "      <td>0</td>\n",
              "      <td>0</td>\n",
              "      <td>0</td>\n",
              "      <td>0</td>\n",
              "      <td>0</td>\n",
              "      <td>0</td>\n",
              "      <td>0</td>\n",
              "      <td>0</td>\n",
              "      <td>0</td>\n",
              "      <td>0</td>\n",
              "    </tr>\n",
              "    <tr>\n",
              "      <th>1</th>\n",
              "      <td>0</td>\n",
              "      <td>0</td>\n",
              "      <td>0</td>\n",
              "      <td>0</td>\n",
              "      <td>0</td>\n",
              "      <td>0</td>\n",
              "      <td>0</td>\n",
              "      <td>0</td>\n",
              "      <td>0</td>\n",
              "      <td>0</td>\n",
              "      <td>...</td>\n",
              "      <td>0</td>\n",
              "      <td>0</td>\n",
              "      <td>0</td>\n",
              "      <td>0</td>\n",
              "      <td>0</td>\n",
              "      <td>0</td>\n",
              "      <td>0</td>\n",
              "      <td>0</td>\n",
              "      <td>0</td>\n",
              "      <td>1</td>\n",
              "    </tr>\n",
              "    <tr>\n",
              "      <th>2</th>\n",
              "      <td>0</td>\n",
              "      <td>0</td>\n",
              "      <td>0</td>\n",
              "      <td>0</td>\n",
              "      <td>0</td>\n",
              "      <td>0</td>\n",
              "      <td>0</td>\n",
              "      <td>0</td>\n",
              "      <td>0</td>\n",
              "      <td>0</td>\n",
              "      <td>...</td>\n",
              "      <td>0</td>\n",
              "      <td>0</td>\n",
              "      <td>0</td>\n",
              "      <td>0</td>\n",
              "      <td>0</td>\n",
              "      <td>0</td>\n",
              "      <td>0</td>\n",
              "      <td>0</td>\n",
              "      <td>0</td>\n",
              "      <td>0</td>\n",
              "    </tr>\n",
              "    <tr>\n",
              "      <th>3</th>\n",
              "      <td>0</td>\n",
              "      <td>0</td>\n",
              "      <td>0</td>\n",
              "      <td>0</td>\n",
              "      <td>0</td>\n",
              "      <td>0</td>\n",
              "      <td>0</td>\n",
              "      <td>0</td>\n",
              "      <td>0</td>\n",
              "      <td>0</td>\n",
              "      <td>...</td>\n",
              "      <td>0</td>\n",
              "      <td>0</td>\n",
              "      <td>0</td>\n",
              "      <td>0</td>\n",
              "      <td>0</td>\n",
              "      <td>0</td>\n",
              "      <td>0</td>\n",
              "      <td>0</td>\n",
              "      <td>0</td>\n",
              "      <td>-1</td>\n",
              "    </tr>\n",
              "    <tr>\n",
              "      <th>4</th>\n",
              "      <td>0</td>\n",
              "      <td>0</td>\n",
              "      <td>0</td>\n",
              "      <td>0</td>\n",
              "      <td>0</td>\n",
              "      <td>0</td>\n",
              "      <td>0</td>\n",
              "      <td>0</td>\n",
              "      <td>0</td>\n",
              "      <td>0</td>\n",
              "      <td>...</td>\n",
              "      <td>0</td>\n",
              "      <td>0</td>\n",
              "      <td>0</td>\n",
              "      <td>0</td>\n",
              "      <td>0</td>\n",
              "      <td>0</td>\n",
              "      <td>0</td>\n",
              "      <td>0</td>\n",
              "      <td>0</td>\n",
              "      <td>-1</td>\n",
              "    </tr>\n",
              "  </tbody>\n",
              "</table>\n",
              "<p>5 rows × 9851 columns</p>\n",
              "</div>\n",
              "      <button class=\"colab-df-convert\" onclick=\"convertToInteractive('df-a460774b-7272-45c6-94f8-5518ff523969')\"\n",
              "              title=\"Convert this dataframe to an interactive table.\"\n",
              "              style=\"display:none;\">\n",
              "        \n",
              "  <svg xmlns=\"http://www.w3.org/2000/svg\" height=\"24px\"viewBox=\"0 0 24 24\"\n",
              "       width=\"24px\">\n",
              "    <path d=\"M0 0h24v24H0V0z\" fill=\"none\"/>\n",
              "    <path d=\"M18.56 5.44l.94 2.06.94-2.06 2.06-.94-2.06-.94-.94-2.06-.94 2.06-2.06.94zm-11 1L8.5 8.5l.94-2.06 2.06-.94-2.06-.94L8.5 2.5l-.94 2.06-2.06.94zm10 10l.94 2.06.94-2.06 2.06-.94-2.06-.94-.94-2.06-.94 2.06-2.06.94z\"/><path d=\"M17.41 7.96l-1.37-1.37c-.4-.4-.92-.59-1.43-.59-.52 0-1.04.2-1.43.59L10.3 9.45l-7.72 7.72c-.78.78-.78 2.05 0 2.83L4 21.41c.39.39.9.59 1.41.59.51 0 1.02-.2 1.41-.59l7.78-7.78 2.81-2.81c.8-.78.8-2.07 0-2.86zM5.41 20L4 18.59l7.72-7.72 1.47 1.35L5.41 20z\"/>\n",
              "  </svg>\n",
              "      </button>\n",
              "      \n",
              "  <style>\n",
              "    .colab-df-container {\n",
              "      display:flex;\n",
              "      flex-wrap:wrap;\n",
              "      gap: 12px;\n",
              "    }\n",
              "\n",
              "    .colab-df-convert {\n",
              "      background-color: #E8F0FE;\n",
              "      border: none;\n",
              "      border-radius: 50%;\n",
              "      cursor: pointer;\n",
              "      display: none;\n",
              "      fill: #1967D2;\n",
              "      height: 32px;\n",
              "      padding: 0 0 0 0;\n",
              "      width: 32px;\n",
              "    }\n",
              "\n",
              "    .colab-df-convert:hover {\n",
              "      background-color: #E2EBFA;\n",
              "      box-shadow: 0px 1px 2px rgba(60, 64, 67, 0.3), 0px 1px 3px 1px rgba(60, 64, 67, 0.15);\n",
              "      fill: #174EA6;\n",
              "    }\n",
              "\n",
              "    [theme=dark] .colab-df-convert {\n",
              "      background-color: #3B4455;\n",
              "      fill: #D2E3FC;\n",
              "    }\n",
              "\n",
              "    [theme=dark] .colab-df-convert:hover {\n",
              "      background-color: #434B5C;\n",
              "      box-shadow: 0px 1px 3px 1px rgba(0, 0, 0, 0.15);\n",
              "      filter: drop-shadow(0px 1px 2px rgba(0, 0, 0, 0.3));\n",
              "      fill: #FFFFFF;\n",
              "    }\n",
              "  </style>\n",
              "\n",
              "      <script>\n",
              "        const buttonEl =\n",
              "          document.querySelector('#df-a460774b-7272-45c6-94f8-5518ff523969 button.colab-df-convert');\n",
              "        buttonEl.style.display =\n",
              "          google.colab.kernel.accessAllowed ? 'block' : 'none';\n",
              "\n",
              "        async function convertToInteractive(key) {\n",
              "          const element = document.querySelector('#df-a460774b-7272-45c6-94f8-5518ff523969');\n",
              "          const dataTable =\n",
              "            await google.colab.kernel.invokeFunction('convertToInteractive',\n",
              "                                                     [key], {});\n",
              "          if (!dataTable) return;\n",
              "\n",
              "          const docLinkHtml = 'Like what you see? Visit the ' +\n",
              "            '<a target=\"_blank\" href=https://colab.research.google.com/notebooks/data_table.ipynb>data table notebook</a>'\n",
              "            + ' to learn more about interactive tables.';\n",
              "          element.innerHTML = '';\n",
              "          dataTable['output_type'] = 'display_data';\n",
              "          await google.colab.output.renderOutput(dataTable, element);\n",
              "          const docLink = document.createElement('div');\n",
              "          docLink.innerHTML = docLinkHtml;\n",
              "          element.appendChild(docLink);\n",
              "        }\n",
              "      </script>\n",
              "    </div>\n",
              "  </div>\n",
              "  "
            ]
          },
          "metadata": {},
          "execution_count": 11
        }
      ],
      "source": [
        "df_bow.head()"
      ]
    },
    {
      "cell_type": "markdown",
      "metadata": {
        "id": "4Cw--16Sm5AC"
      },
      "source": [
        "## 2) TF-IDF"
      ]
    },
    {
      "cell_type": "markdown",
      "metadata": {
        "id": "Im65bx_0m5AC"
      },
      "source": [
        "TF-IDF (term frequency - inverse document frequency) est une méthode qui fonctionne exactement comme le bag-of-words, mais qui prend en compte de la fréquence des termes dans la phrase (TF), et de leur fréquence dans notre dataset tout entier (IDF).\n",
        "\n",
        "Plutôt que de mettre un 1 lorsqu'un terme est présent, on va mettre un réel entre 0 et 1 qui traduit l'importance de ce terme. Par exemple, plus le terme est fréquent au sein du dataset, moins il nous donne d'information pour décider du caractère positif ou négatif du commentaire. Il aura donc une valeur plutôt proche de 0. A l'inverse, moins un terme est fréquent dans le dataset, plus sa valeur sera élevée.\n",
        "\n",
        "(Voir https://fr.wikipedia.org/wiki/TF-IDF pour plus de détails)\n",
        "\n",
        "Encore une fois, TF-IDF ne permet pas de prendre en compte de l'ordre des mots au sein de la phrase."
      ]
    },
    {
      "cell_type": "code",
      "execution_count": 12,
      "metadata": {
        "colab": {
          "base_uri": "https://localhost:8080/"
        },
        "id": "EZ7FVDovm5AD",
        "outputId": "2ae4d712-bef3-4826-8127-ccc210c9990f"
      },
      "outputs": [
        {
          "output_type": "stream",
          "name": "stderr",
          "text": [
            "/usr/local/lib/python3.7/dist-packages/sklearn/utils/deprecation.py:87: FutureWarning: Function get_feature_names is deprecated; get_feature_names is deprecated in 1.0 and will be removed in 1.2. Please use get_feature_names_out instead.\n",
            "  warnings.warn(msg, category=FutureWarning)\n"
          ]
        }
      ],
      "source": [
        "from sklearn.feature_extraction.text import TfidfVectorizer\n",
        "vectorizer = TfidfVectorizer()\n",
        "vectorizer.fit(df['text_processed'])\n",
        "\n",
        "X = vectorizer.transform(df['text_processed'])\n",
        "df_tfidf = pd.DataFrame(X.toarray(), columns=vectorizer.get_feature_names())\n",
        "df_tfidf['airline_sentiment'] = df['airline_sentiment']"
      ]
    },
    {
      "cell_type": "code",
      "execution_count": 13,
      "metadata": {
        "colab": {
          "base_uri": "https://localhost:8080/",
          "height": 299
        },
        "id": "kRCZ87X0m5AD",
        "outputId": "b52a6629-5893-482c-9bee-dcb7e1c60d46"
      },
      "outputs": [
        {
          "output_type": "execute_result",
          "data": {
            "text/plain": [
              "    aa  aaaand  aaba  aacom  aacustomerservic  aadavantag  aadfw  aadv  \\\n",
              "0  0.0     0.0   0.0    0.0               0.0         0.0    0.0   0.0   \n",
              "1  0.0     0.0   0.0    0.0               0.0         0.0    0.0   0.0   \n",
              "2  0.0     0.0   0.0    0.0               0.0         0.0    0.0   0.0   \n",
              "3  0.0     0.0   0.0    0.0               0.0         0.0    0.0   0.0   \n",
              "4  0.0     0.0   0.0    0.0               0.0         0.0    0.0   0.0   \n",
              "\n",
              "   aadvantag  aal  ...  zigzag  zip  zipper  zone  zoom  zrhairport  zuke  \\\n",
              "0        0.0  0.0  ...     0.0  0.0     0.0   0.0   0.0         0.0   0.0   \n",
              "1        0.0  0.0  ...     0.0  0.0     0.0   0.0   0.0         0.0   0.0   \n",
              "2        0.0  0.0  ...     0.0  0.0     0.0   0.0   0.0         0.0   0.0   \n",
              "3        0.0  0.0  ...     0.0  0.0     0.0   0.0   0.0         0.0   0.0   \n",
              "4        0.0  0.0  ...     0.0  0.0     0.0   0.0   0.0         0.0   0.0   \n",
              "\n",
              "   zurich  zurichnew  airline_sentiment  \n",
              "0     0.0        0.0                  0  \n",
              "1     0.0        0.0                  1  \n",
              "2     0.0        0.0                  0  \n",
              "3     0.0        0.0                 -1  \n",
              "4     0.0        0.0                 -1  \n",
              "\n",
              "[5 rows x 9851 columns]"
            ],
            "text/html": [
              "\n",
              "  <div id=\"df-8e818928-30be-415b-b39f-9a9fc7dbc4ca\">\n",
              "    <div class=\"colab-df-container\">\n",
              "      <div>\n",
              "<style scoped>\n",
              "    .dataframe tbody tr th:only-of-type {\n",
              "        vertical-align: middle;\n",
              "    }\n",
              "\n",
              "    .dataframe tbody tr th {\n",
              "        vertical-align: top;\n",
              "    }\n",
              "\n",
              "    .dataframe thead th {\n",
              "        text-align: right;\n",
              "    }\n",
              "</style>\n",
              "<table border=\"1\" class=\"dataframe\">\n",
              "  <thead>\n",
              "    <tr style=\"text-align: right;\">\n",
              "      <th></th>\n",
              "      <th>aa</th>\n",
              "      <th>aaaand</th>\n",
              "      <th>aaba</th>\n",
              "      <th>aacom</th>\n",
              "      <th>aacustomerservic</th>\n",
              "      <th>aadavantag</th>\n",
              "      <th>aadfw</th>\n",
              "      <th>aadv</th>\n",
              "      <th>aadvantag</th>\n",
              "      <th>aal</th>\n",
              "      <th>...</th>\n",
              "      <th>zigzag</th>\n",
              "      <th>zip</th>\n",
              "      <th>zipper</th>\n",
              "      <th>zone</th>\n",
              "      <th>zoom</th>\n",
              "      <th>zrhairport</th>\n",
              "      <th>zuke</th>\n",
              "      <th>zurich</th>\n",
              "      <th>zurichnew</th>\n",
              "      <th>airline_sentiment</th>\n",
              "    </tr>\n",
              "  </thead>\n",
              "  <tbody>\n",
              "    <tr>\n",
              "      <th>0</th>\n",
              "      <td>0.0</td>\n",
              "      <td>0.0</td>\n",
              "      <td>0.0</td>\n",
              "      <td>0.0</td>\n",
              "      <td>0.0</td>\n",
              "      <td>0.0</td>\n",
              "      <td>0.0</td>\n",
              "      <td>0.0</td>\n",
              "      <td>0.0</td>\n",
              "      <td>0.0</td>\n",
              "      <td>...</td>\n",
              "      <td>0.0</td>\n",
              "      <td>0.0</td>\n",
              "      <td>0.0</td>\n",
              "      <td>0.0</td>\n",
              "      <td>0.0</td>\n",
              "      <td>0.0</td>\n",
              "      <td>0.0</td>\n",
              "      <td>0.0</td>\n",
              "      <td>0.0</td>\n",
              "      <td>0</td>\n",
              "    </tr>\n",
              "    <tr>\n",
              "      <th>1</th>\n",
              "      <td>0.0</td>\n",
              "      <td>0.0</td>\n",
              "      <td>0.0</td>\n",
              "      <td>0.0</td>\n",
              "      <td>0.0</td>\n",
              "      <td>0.0</td>\n",
              "      <td>0.0</td>\n",
              "      <td>0.0</td>\n",
              "      <td>0.0</td>\n",
              "      <td>0.0</td>\n",
              "      <td>...</td>\n",
              "      <td>0.0</td>\n",
              "      <td>0.0</td>\n",
              "      <td>0.0</td>\n",
              "      <td>0.0</td>\n",
              "      <td>0.0</td>\n",
              "      <td>0.0</td>\n",
              "      <td>0.0</td>\n",
              "      <td>0.0</td>\n",
              "      <td>0.0</td>\n",
              "      <td>1</td>\n",
              "    </tr>\n",
              "    <tr>\n",
              "      <th>2</th>\n",
              "      <td>0.0</td>\n",
              "      <td>0.0</td>\n",
              "      <td>0.0</td>\n",
              "      <td>0.0</td>\n",
              "      <td>0.0</td>\n",
              "      <td>0.0</td>\n",
              "      <td>0.0</td>\n",
              "      <td>0.0</td>\n",
              "      <td>0.0</td>\n",
              "      <td>0.0</td>\n",
              "      <td>...</td>\n",
              "      <td>0.0</td>\n",
              "      <td>0.0</td>\n",
              "      <td>0.0</td>\n",
              "      <td>0.0</td>\n",
              "      <td>0.0</td>\n",
              "      <td>0.0</td>\n",
              "      <td>0.0</td>\n",
              "      <td>0.0</td>\n",
              "      <td>0.0</td>\n",
              "      <td>0</td>\n",
              "    </tr>\n",
              "    <tr>\n",
              "      <th>3</th>\n",
              "      <td>0.0</td>\n",
              "      <td>0.0</td>\n",
              "      <td>0.0</td>\n",
              "      <td>0.0</td>\n",
              "      <td>0.0</td>\n",
              "      <td>0.0</td>\n",
              "      <td>0.0</td>\n",
              "      <td>0.0</td>\n",
              "      <td>0.0</td>\n",
              "      <td>0.0</td>\n",
              "      <td>...</td>\n",
              "      <td>0.0</td>\n",
              "      <td>0.0</td>\n",
              "      <td>0.0</td>\n",
              "      <td>0.0</td>\n",
              "      <td>0.0</td>\n",
              "      <td>0.0</td>\n",
              "      <td>0.0</td>\n",
              "      <td>0.0</td>\n",
              "      <td>0.0</td>\n",
              "      <td>-1</td>\n",
              "    </tr>\n",
              "    <tr>\n",
              "      <th>4</th>\n",
              "      <td>0.0</td>\n",
              "      <td>0.0</td>\n",
              "      <td>0.0</td>\n",
              "      <td>0.0</td>\n",
              "      <td>0.0</td>\n",
              "      <td>0.0</td>\n",
              "      <td>0.0</td>\n",
              "      <td>0.0</td>\n",
              "      <td>0.0</td>\n",
              "      <td>0.0</td>\n",
              "      <td>...</td>\n",
              "      <td>0.0</td>\n",
              "      <td>0.0</td>\n",
              "      <td>0.0</td>\n",
              "      <td>0.0</td>\n",
              "      <td>0.0</td>\n",
              "      <td>0.0</td>\n",
              "      <td>0.0</td>\n",
              "      <td>0.0</td>\n",
              "      <td>0.0</td>\n",
              "      <td>-1</td>\n",
              "    </tr>\n",
              "  </tbody>\n",
              "</table>\n",
              "<p>5 rows × 9851 columns</p>\n",
              "</div>\n",
              "      <button class=\"colab-df-convert\" onclick=\"convertToInteractive('df-8e818928-30be-415b-b39f-9a9fc7dbc4ca')\"\n",
              "              title=\"Convert this dataframe to an interactive table.\"\n",
              "              style=\"display:none;\">\n",
              "        \n",
              "  <svg xmlns=\"http://www.w3.org/2000/svg\" height=\"24px\"viewBox=\"0 0 24 24\"\n",
              "       width=\"24px\">\n",
              "    <path d=\"M0 0h24v24H0V0z\" fill=\"none\"/>\n",
              "    <path d=\"M18.56 5.44l.94 2.06.94-2.06 2.06-.94-2.06-.94-.94-2.06-.94 2.06-2.06.94zm-11 1L8.5 8.5l.94-2.06 2.06-.94-2.06-.94L8.5 2.5l-.94 2.06-2.06.94zm10 10l.94 2.06.94-2.06 2.06-.94-2.06-.94-.94-2.06-.94 2.06-2.06.94z\"/><path d=\"M17.41 7.96l-1.37-1.37c-.4-.4-.92-.59-1.43-.59-.52 0-1.04.2-1.43.59L10.3 9.45l-7.72 7.72c-.78.78-.78 2.05 0 2.83L4 21.41c.39.39.9.59 1.41.59.51 0 1.02-.2 1.41-.59l7.78-7.78 2.81-2.81c.8-.78.8-2.07 0-2.86zM5.41 20L4 18.59l7.72-7.72 1.47 1.35L5.41 20z\"/>\n",
              "  </svg>\n",
              "      </button>\n",
              "      \n",
              "  <style>\n",
              "    .colab-df-container {\n",
              "      display:flex;\n",
              "      flex-wrap:wrap;\n",
              "      gap: 12px;\n",
              "    }\n",
              "\n",
              "    .colab-df-convert {\n",
              "      background-color: #E8F0FE;\n",
              "      border: none;\n",
              "      border-radius: 50%;\n",
              "      cursor: pointer;\n",
              "      display: none;\n",
              "      fill: #1967D2;\n",
              "      height: 32px;\n",
              "      padding: 0 0 0 0;\n",
              "      width: 32px;\n",
              "    }\n",
              "\n",
              "    .colab-df-convert:hover {\n",
              "      background-color: #E2EBFA;\n",
              "      box-shadow: 0px 1px 2px rgba(60, 64, 67, 0.3), 0px 1px 3px 1px rgba(60, 64, 67, 0.15);\n",
              "      fill: #174EA6;\n",
              "    }\n",
              "\n",
              "    [theme=dark] .colab-df-convert {\n",
              "      background-color: #3B4455;\n",
              "      fill: #D2E3FC;\n",
              "    }\n",
              "\n",
              "    [theme=dark] .colab-df-convert:hover {\n",
              "      background-color: #434B5C;\n",
              "      box-shadow: 0px 1px 3px 1px rgba(0, 0, 0, 0.15);\n",
              "      filter: drop-shadow(0px 1px 2px rgba(0, 0, 0, 0.3));\n",
              "      fill: #FFFFFF;\n",
              "    }\n",
              "  </style>\n",
              "\n",
              "      <script>\n",
              "        const buttonEl =\n",
              "          document.querySelector('#df-8e818928-30be-415b-b39f-9a9fc7dbc4ca button.colab-df-convert');\n",
              "        buttonEl.style.display =\n",
              "          google.colab.kernel.accessAllowed ? 'block' : 'none';\n",
              "\n",
              "        async function convertToInteractive(key) {\n",
              "          const element = document.querySelector('#df-8e818928-30be-415b-b39f-9a9fc7dbc4ca');\n",
              "          const dataTable =\n",
              "            await google.colab.kernel.invokeFunction('convertToInteractive',\n",
              "                                                     [key], {});\n",
              "          if (!dataTable) return;\n",
              "\n",
              "          const docLinkHtml = 'Like what you see? Visit the ' +\n",
              "            '<a target=\"_blank\" href=https://colab.research.google.com/notebooks/data_table.ipynb>data table notebook</a>'\n",
              "            + ' to learn more about interactive tables.';\n",
              "          element.innerHTML = '';\n",
              "          dataTable['output_type'] = 'display_data';\n",
              "          await google.colab.output.renderOutput(dataTable, element);\n",
              "          const docLink = document.createElement('div');\n",
              "          docLink.innerHTML = docLinkHtml;\n",
              "          element.appendChild(docLink);\n",
              "        }\n",
              "      </script>\n",
              "    </div>\n",
              "  </div>\n",
              "  "
            ]
          },
          "metadata": {},
          "execution_count": 13
        }
      ],
      "source": [
        "df_tfidf.head()"
      ]
    },
    {
      "cell_type": "markdown",
      "metadata": {
        "id": "J_-RUzP2m5AD"
      },
      "source": [
        "## 3) Doc2Vec"
      ]
    },
    {
      "cell_type": "markdown",
      "metadata": {
        "id": "0sioBdThm5AD"
      },
      "source": [
        "Doc2Vec permet de transformer un texte en un vecteur (dont on peut choisir la dimension), en essayant de prendre en compte l'ordre des mots. \n",
        "\n",
        "La méthode est similaire à Word2Vec, qui essaye d'identifier les mots qui apparaissent souvent ensemble, afin d'en déduire ensuite une représentation vectorielle de chacun des mots. Le but étant ensuite que les mots ayant un sens similaire possèdent des vecteurs proches. (Voir par exemple l'image sur https://cran.r-project.org/web/packages/word2vec/readme/README.html)\n",
        "\n",
        "Doc2Vec a un fonctionnement similaire mais je ne le connais pas exactement."
      ]
    },
    {
      "cell_type": "code",
      "execution_count": 14,
      "metadata": {
        "id": "CaWHsLitm5AD"
      },
      "outputs": [],
      "source": [
        "from gensim.test.utils import common_texts\n",
        "from gensim.models.doc2vec import Doc2Vec, TaggedDocument"
      ]
    },
    {
      "cell_type": "code",
      "execution_count": 15,
      "metadata": {
        "id": "TW32edrMm5AE"
      },
      "outputs": [],
      "source": [
        "tokenized_text = []\n",
        "n = len(df)\n",
        "for i in range(n):\n",
        "    tokenized_text.append(word_tokenize(df['text_processed'][i]))"
      ]
    },
    {
      "cell_type": "code",
      "execution_count": 16,
      "metadata": {
        "id": "RqrYO322m5AE"
      },
      "outputs": [],
      "source": [
        "documents = [TaggedDocument(doc, [i]) for i, doc in enumerate(tokenized_text)]\n",
        "model = Doc2Vec(documents, vector_size=100, window=2, min_count=1, workers=4)"
      ]
    },
    {
      "cell_type": "code",
      "execution_count": 17,
      "metadata": {
        "colab": {
          "base_uri": "https://localhost:8080/",
          "height": 299
        },
        "id": "BtSq8Q5gm5AE",
        "outputId": "d0bc29eb-f517-470a-9b52-51833e3ede59"
      },
      "outputs": [
        {
          "output_type": "execute_result",
          "data": {
            "text/plain": [
              "          0         1         2         3         4         5         6  \\\n",
              "0  0.000193 -0.001577  0.002135 -0.007386 -0.010691  0.006945 -0.002961   \n",
              "1 -0.004978  0.008744 -0.006873 -0.010935 -0.024715  0.022745  0.004473   \n",
              "2  0.001810 -0.002013 -0.004389  0.001366 -0.008937  0.009887  0.002673   \n",
              "3 -0.020077  0.018827 -0.005194 -0.025218 -0.057046  0.064086 -0.001556   \n",
              "4  0.000664  0.004616  0.000845 -0.004822 -0.000282  0.000777  0.004352   \n",
              "\n",
              "          7         8         9  ...        91        92        93        94  \\\n",
              "0 -0.000522  0.001885  0.004593  ... -0.002729  0.004906  0.006442  0.000665   \n",
              "1  0.005570  0.009340 -0.001215  ... -0.004556  0.005751  0.006139  0.010367   \n",
              "2  0.000673 -0.001421  0.001819  ...  0.002415  0.001747  0.000312  0.006884   \n",
              "3  0.005753  0.030141 -0.001907  ... -0.000151  0.007402  0.033105  0.027872   \n",
              "4 -0.003811 -0.000134  0.004789  ...  0.004083 -0.002220 -0.004160  0.005577   \n",
              "\n",
              "         95        96        97        98        99  airline_sentiment  \n",
              "0 -0.004505  0.020765 -0.002223 -0.008388  0.003757                  0  \n",
              "1 -0.009854  0.029679 -0.004991 -0.008211  0.001174                  1  \n",
              "2 -0.004737  0.010508 -0.007717 -0.000032 -0.004292                  0  \n",
              "3 -0.044827  0.080577 -0.020022 -0.012841 -0.010382                 -1  \n",
              "4 -0.004011  0.003448 -0.003368 -0.004002  0.003309                 -1  \n",
              "\n",
              "[5 rows x 101 columns]"
            ],
            "text/html": [
              "\n",
              "  <div id=\"df-d0a2b2fd-b494-4d6c-9202-8d3f6c6b7dc5\">\n",
              "    <div class=\"colab-df-container\">\n",
              "      <div>\n",
              "<style scoped>\n",
              "    .dataframe tbody tr th:only-of-type {\n",
              "        vertical-align: middle;\n",
              "    }\n",
              "\n",
              "    .dataframe tbody tr th {\n",
              "        vertical-align: top;\n",
              "    }\n",
              "\n",
              "    .dataframe thead th {\n",
              "        text-align: right;\n",
              "    }\n",
              "</style>\n",
              "<table border=\"1\" class=\"dataframe\">\n",
              "  <thead>\n",
              "    <tr style=\"text-align: right;\">\n",
              "      <th></th>\n",
              "      <th>0</th>\n",
              "      <th>1</th>\n",
              "      <th>2</th>\n",
              "      <th>3</th>\n",
              "      <th>4</th>\n",
              "      <th>5</th>\n",
              "      <th>6</th>\n",
              "      <th>7</th>\n",
              "      <th>8</th>\n",
              "      <th>9</th>\n",
              "      <th>...</th>\n",
              "      <th>91</th>\n",
              "      <th>92</th>\n",
              "      <th>93</th>\n",
              "      <th>94</th>\n",
              "      <th>95</th>\n",
              "      <th>96</th>\n",
              "      <th>97</th>\n",
              "      <th>98</th>\n",
              "      <th>99</th>\n",
              "      <th>airline_sentiment</th>\n",
              "    </tr>\n",
              "  </thead>\n",
              "  <tbody>\n",
              "    <tr>\n",
              "      <th>0</th>\n",
              "      <td>0.000193</td>\n",
              "      <td>-0.001577</td>\n",
              "      <td>0.002135</td>\n",
              "      <td>-0.007386</td>\n",
              "      <td>-0.010691</td>\n",
              "      <td>0.006945</td>\n",
              "      <td>-0.002961</td>\n",
              "      <td>-0.000522</td>\n",
              "      <td>0.001885</td>\n",
              "      <td>0.004593</td>\n",
              "      <td>...</td>\n",
              "      <td>-0.002729</td>\n",
              "      <td>0.004906</td>\n",
              "      <td>0.006442</td>\n",
              "      <td>0.000665</td>\n",
              "      <td>-0.004505</td>\n",
              "      <td>0.020765</td>\n",
              "      <td>-0.002223</td>\n",
              "      <td>-0.008388</td>\n",
              "      <td>0.003757</td>\n",
              "      <td>0</td>\n",
              "    </tr>\n",
              "    <tr>\n",
              "      <th>1</th>\n",
              "      <td>-0.004978</td>\n",
              "      <td>0.008744</td>\n",
              "      <td>-0.006873</td>\n",
              "      <td>-0.010935</td>\n",
              "      <td>-0.024715</td>\n",
              "      <td>0.022745</td>\n",
              "      <td>0.004473</td>\n",
              "      <td>0.005570</td>\n",
              "      <td>0.009340</td>\n",
              "      <td>-0.001215</td>\n",
              "      <td>...</td>\n",
              "      <td>-0.004556</td>\n",
              "      <td>0.005751</td>\n",
              "      <td>0.006139</td>\n",
              "      <td>0.010367</td>\n",
              "      <td>-0.009854</td>\n",
              "      <td>0.029679</td>\n",
              "      <td>-0.004991</td>\n",
              "      <td>-0.008211</td>\n",
              "      <td>0.001174</td>\n",
              "      <td>1</td>\n",
              "    </tr>\n",
              "    <tr>\n",
              "      <th>2</th>\n",
              "      <td>0.001810</td>\n",
              "      <td>-0.002013</td>\n",
              "      <td>-0.004389</td>\n",
              "      <td>0.001366</td>\n",
              "      <td>-0.008937</td>\n",
              "      <td>0.009887</td>\n",
              "      <td>0.002673</td>\n",
              "      <td>0.000673</td>\n",
              "      <td>-0.001421</td>\n",
              "      <td>0.001819</td>\n",
              "      <td>...</td>\n",
              "      <td>0.002415</td>\n",
              "      <td>0.001747</td>\n",
              "      <td>0.000312</td>\n",
              "      <td>0.006884</td>\n",
              "      <td>-0.004737</td>\n",
              "      <td>0.010508</td>\n",
              "      <td>-0.007717</td>\n",
              "      <td>-0.000032</td>\n",
              "      <td>-0.004292</td>\n",
              "      <td>0</td>\n",
              "    </tr>\n",
              "    <tr>\n",
              "      <th>3</th>\n",
              "      <td>-0.020077</td>\n",
              "      <td>0.018827</td>\n",
              "      <td>-0.005194</td>\n",
              "      <td>-0.025218</td>\n",
              "      <td>-0.057046</td>\n",
              "      <td>0.064086</td>\n",
              "      <td>-0.001556</td>\n",
              "      <td>0.005753</td>\n",
              "      <td>0.030141</td>\n",
              "      <td>-0.001907</td>\n",
              "      <td>...</td>\n",
              "      <td>-0.000151</td>\n",
              "      <td>0.007402</td>\n",
              "      <td>0.033105</td>\n",
              "      <td>0.027872</td>\n",
              "      <td>-0.044827</td>\n",
              "      <td>0.080577</td>\n",
              "      <td>-0.020022</td>\n",
              "      <td>-0.012841</td>\n",
              "      <td>-0.010382</td>\n",
              "      <td>-1</td>\n",
              "    </tr>\n",
              "    <tr>\n",
              "      <th>4</th>\n",
              "      <td>0.000664</td>\n",
              "      <td>0.004616</td>\n",
              "      <td>0.000845</td>\n",
              "      <td>-0.004822</td>\n",
              "      <td>-0.000282</td>\n",
              "      <td>0.000777</td>\n",
              "      <td>0.004352</td>\n",
              "      <td>-0.003811</td>\n",
              "      <td>-0.000134</td>\n",
              "      <td>0.004789</td>\n",
              "      <td>...</td>\n",
              "      <td>0.004083</td>\n",
              "      <td>-0.002220</td>\n",
              "      <td>-0.004160</td>\n",
              "      <td>0.005577</td>\n",
              "      <td>-0.004011</td>\n",
              "      <td>0.003448</td>\n",
              "      <td>-0.003368</td>\n",
              "      <td>-0.004002</td>\n",
              "      <td>0.003309</td>\n",
              "      <td>-1</td>\n",
              "    </tr>\n",
              "  </tbody>\n",
              "</table>\n",
              "<p>5 rows × 101 columns</p>\n",
              "</div>\n",
              "      <button class=\"colab-df-convert\" onclick=\"convertToInteractive('df-d0a2b2fd-b494-4d6c-9202-8d3f6c6b7dc5')\"\n",
              "              title=\"Convert this dataframe to an interactive table.\"\n",
              "              style=\"display:none;\">\n",
              "        \n",
              "  <svg xmlns=\"http://www.w3.org/2000/svg\" height=\"24px\"viewBox=\"0 0 24 24\"\n",
              "       width=\"24px\">\n",
              "    <path d=\"M0 0h24v24H0V0z\" fill=\"none\"/>\n",
              "    <path d=\"M18.56 5.44l.94 2.06.94-2.06 2.06-.94-2.06-.94-.94-2.06-.94 2.06-2.06.94zm-11 1L8.5 8.5l.94-2.06 2.06-.94-2.06-.94L8.5 2.5l-.94 2.06-2.06.94zm10 10l.94 2.06.94-2.06 2.06-.94-2.06-.94-.94-2.06-.94 2.06-2.06.94z\"/><path d=\"M17.41 7.96l-1.37-1.37c-.4-.4-.92-.59-1.43-.59-.52 0-1.04.2-1.43.59L10.3 9.45l-7.72 7.72c-.78.78-.78 2.05 0 2.83L4 21.41c.39.39.9.59 1.41.59.51 0 1.02-.2 1.41-.59l7.78-7.78 2.81-2.81c.8-.78.8-2.07 0-2.86zM5.41 20L4 18.59l7.72-7.72 1.47 1.35L5.41 20z\"/>\n",
              "  </svg>\n",
              "      </button>\n",
              "      \n",
              "  <style>\n",
              "    .colab-df-container {\n",
              "      display:flex;\n",
              "      flex-wrap:wrap;\n",
              "      gap: 12px;\n",
              "    }\n",
              "\n",
              "    .colab-df-convert {\n",
              "      background-color: #E8F0FE;\n",
              "      border: none;\n",
              "      border-radius: 50%;\n",
              "      cursor: pointer;\n",
              "      display: none;\n",
              "      fill: #1967D2;\n",
              "      height: 32px;\n",
              "      padding: 0 0 0 0;\n",
              "      width: 32px;\n",
              "    }\n",
              "\n",
              "    .colab-df-convert:hover {\n",
              "      background-color: #E2EBFA;\n",
              "      box-shadow: 0px 1px 2px rgba(60, 64, 67, 0.3), 0px 1px 3px 1px rgba(60, 64, 67, 0.15);\n",
              "      fill: #174EA6;\n",
              "    }\n",
              "\n",
              "    [theme=dark] .colab-df-convert {\n",
              "      background-color: #3B4455;\n",
              "      fill: #D2E3FC;\n",
              "    }\n",
              "\n",
              "    [theme=dark] .colab-df-convert:hover {\n",
              "      background-color: #434B5C;\n",
              "      box-shadow: 0px 1px 3px 1px rgba(0, 0, 0, 0.15);\n",
              "      filter: drop-shadow(0px 1px 2px rgba(0, 0, 0, 0.3));\n",
              "      fill: #FFFFFF;\n",
              "    }\n",
              "  </style>\n",
              "\n",
              "      <script>\n",
              "        const buttonEl =\n",
              "          document.querySelector('#df-d0a2b2fd-b494-4d6c-9202-8d3f6c6b7dc5 button.colab-df-convert');\n",
              "        buttonEl.style.display =\n",
              "          google.colab.kernel.accessAllowed ? 'block' : 'none';\n",
              "\n",
              "        async function convertToInteractive(key) {\n",
              "          const element = document.querySelector('#df-d0a2b2fd-b494-4d6c-9202-8d3f6c6b7dc5');\n",
              "          const dataTable =\n",
              "            await google.colab.kernel.invokeFunction('convertToInteractive',\n",
              "                                                     [key], {});\n",
              "          if (!dataTable) return;\n",
              "\n",
              "          const docLinkHtml = 'Like what you see? Visit the ' +\n",
              "            '<a target=\"_blank\" href=https://colab.research.google.com/notebooks/data_table.ipynb>data table notebook</a>'\n",
              "            + ' to learn more about interactive tables.';\n",
              "          element.innerHTML = '';\n",
              "          dataTable['output_type'] = 'display_data';\n",
              "          await google.colab.output.renderOutput(dataTable, element);\n",
              "          const docLink = document.createElement('div');\n",
              "          docLink.innerHTML = docLinkHtml;\n",
              "          element.appendChild(docLink);\n",
              "        }\n",
              "      </script>\n",
              "    </div>\n",
              "  </div>\n",
              "  "
            ]
          },
          "metadata": {},
          "execution_count": 17
        }
      ],
      "source": [
        "X = []\n",
        "for i in range(n):\n",
        "    X.append(model.infer_vector(tokenized_text[i]))\n",
        "             \n",
        "df_d2v = pd.DataFrame(X)\n",
        "df_d2v['airline_sentiment'] = df['airline_sentiment']\n",
        "df_d2v.head()"
      ]
    },
    {
      "cell_type": "markdown",
      "metadata": {
        "id": "VKFpPoV0182j"
      },
      "source": [
        "# III) Entrainement d'un modèle"
      ]
    },
    {
      "cell_type": "markdown",
      "metadata": {
        "id": "l91OZjwOm5AE"
      },
      "source": [
        "Dans cette partie, nous allons créer des modèles de machine learning simples avec scikit-learn (arbre de décision, random forests...) qui fournissent des résultats très corrects, et nous allons aussi implémenter des réseaux de neurones avec tensorflow pour s'initier au deep learning."
      ]
    },
    {
      "cell_type": "markdown",
      "metadata": {
        "id": "dYDNle1Y2CXD"
      },
      "source": [
        "Ici, vous devez avoir transformé les textes du dataset en vecteurs.\n",
        "Vous devez alors disposer d'une variable X contenant la liste de tous ces vecteurs, et d'une variable y contenant la liste des labels correspondants. Vous pouvez par ailleurs séparer ces données en données d'entrainement (qui serviront à entrainer le modèle) et en données de test (pour tester le modèle par la suite)\n",
        "\n",
        "Avec ceci, vous pouvez initialiser un modèle, l'entrainer, puis le tester.\n",
        "\n",
        "Pour l'instant, je ne vais utiliser que Bag-of-words comme représentation de données (mais vous pouvez également tester les modèles avec TF-IDF ou Doc2Vec)"
      ]
    },
    {
      "cell_type": "code",
      "execution_count": 18,
      "metadata": {
        "id": "V3qjxtlem5AF"
      },
      "outputs": [],
      "source": [
        "import numpy as np\n",
        "\n",
        "y = df['airline_sentiment']\n",
        "\n",
        "X_bow = df_bow.drop(columns=['airline_sentiment'])\n",
        "X_bow = np.asarray(X_bow)\n",
        "\n",
        "# On sépare également nos données en données d'entrainement et de test\n",
        "from sklearn.model_selection import train_test_split\n",
        "X_train_bow, X_test_bow, y_train, y_test = train_test_split(X_bow, y, test_size=0.2, random_state=42)"
      ]
    },
    {
      "cell_type": "markdown",
      "metadata": {
        "id": "sli9wynCm5AF"
      },
      "source": [
        "## 1) Modèles de machine learning avec scikit-learn "
      ]
    },
    {
      "cell_type": "code",
      "execution_count": 19,
      "metadata": {
        "id": "RuaDLmYi2fdT"
      },
      "outputs": [],
      "source": [
        "from sklearn.tree import DecisionTreeClassifier\n",
        "from sklearn.ensemble import RandomForestClassifier\n",
        "from sklearn.linear_model import SGDClassifier\n",
        "from sklearn.neighbors import KNeighborsClassifier\n",
        "from sklearn.svm import SVC\n",
        "\n",
        "from sklearn.metrics import accuracy_score"
      ]
    },
    {
      "cell_type": "code",
      "execution_count": null,
      "metadata": {
        "colab": {
          "base_uri": "https://localhost:8080/"
        },
        "id": "pndnp3Gem5AF",
        "outputId": "9dad824e-f7a8-4c51-b022-55053df276d0"
      },
      "outputs": [
        {
          "output_type": "stream",
          "name": "stdout",
          "text": [
            "Accuracy :  0.7144808743169399\n"
          ]
        }
      ],
      "source": [
        "model = DecisionTreeClassifier()\n",
        "model.fit(X_train_bow, y_train)\n",
        "\n",
        "preds = model.predict(X_test_bow)\n",
        "print(\"Accuracy : \", accuracy_score(preds, y_test))"
      ]
    },
    {
      "cell_type": "code",
      "execution_count": null,
      "metadata": {
        "colab": {
          "base_uri": "https://localhost:8080/"
        },
        "id": "5Rd5fxLpm5AF",
        "outputId": "7b515732-e118-4e4e-e0fc-a58707e75a0c"
      },
      "outputs": [
        {
          "output_type": "stream",
          "name": "stdout",
          "text": [
            "Accuracy :  0.7633196721311475\n"
          ]
        }
      ],
      "source": [
        "model = RandomForestClassifier(n_estimators=20)\n",
        "model.fit(X_train_bow, y_train)\n",
        "\n",
        "preds = model.predict(X_test_bow)\n",
        "print(\"Accuracy : \", accuracy_score(preds, y_test))"
      ]
    },
    {
      "cell_type": "code",
      "execution_count": null,
      "metadata": {
        "id": "SGpzWTGQm5AG",
        "outputId": "21e60014-55f2-4db7-f526-df1f3bcea97c"
      },
      "outputs": [
        {
          "name": "stdout",
          "output_type": "stream",
          "text": [
            "Accuracy :  0.6523224043715847\n"
          ]
        }
      ],
      "source": [
        "model = SGDClassifier()\n",
        "model.fit(X_train_bow, y_train)\n",
        "\n",
        "preds = model.predict(X_test_bow)\n",
        "print(\"Accuracy : \", accuracy_score(preds, y_test))"
      ]
    },
    {
      "cell_type": "code",
      "execution_count": null,
      "metadata": {
        "id": "jCy3MUlim5AG",
        "outputId": "72d449e3-f187-4fe2-de36-8ca20189d877"
      },
      "outputs": [
        {
          "name": "stdout",
          "output_type": "stream",
          "text": [
            "Accuracy :  0.6198770491803278\n"
          ]
        }
      ],
      "source": [
        "model = KNeighborsClassifier(n_neighbors=10)\n",
        "model.fit(X_train_bow, y_train)\n",
        "\n",
        "preds = model.predict(X_test_bow)\n",
        "print(\"Accuracy : \", accuracy_score(preds, y_test))"
      ]
    },
    {
      "cell_type": "code",
      "execution_count": null,
      "metadata": {
        "id": "JO6vy_9Mm5AG"
      },
      "outputs": [],
      "source": [
        "model = SVC()\n",
        "model.fit(X_train_bow, y_train)\n",
        "\n",
        "preds = model.predict(X_test_bow)\n",
        "print(\"Accuracy : \", accuracy_score(preds, y_test))"
      ]
    },
    {
      "cell_type": "markdown",
      "metadata": {
        "id": "fFIKLb0Im5AG"
      },
      "source": [
        "## 2) Modèles de deep learning avec tensorflow"
      ]
    },
    {
      "cell_type": "markdown",
      "metadata": {
        "id": "deNxIxCAm5AG"
      },
      "source": [
        "Cette partie n'est pas du tout nécessaire, c'est seulement un approfondissement pour s'initier aux réseaux de neurones et à tensorflow. Il n'est même pas sûr que nos résultats soient meilleurs que ceux obtenus avec scikit-learn."
      ]
    },
    {
      "cell_type": "code",
      "execution_count": 20,
      "metadata": {
        "id": "xFob-GSNm5AG"
      },
      "outputs": [],
      "source": [
        "import tensorflow as tf\n",
        "from tensorflow import keras\n",
        "from tensorflow.keras import layers"
      ]
    },
    {
      "cell_type": "markdown",
      "metadata": {
        "id": "9Kl3MEzem5AG"
      },
      "source": [
        "Ici avec tensorflow, il faut modifier la forme des labels y.\n",
        "En effet, au-dessus pour une ligne de nos données, nous cherchions à prédire le label correspondant (-1, 0 ou 1).\n",
        "Ici, nous allons chercher à prédire les probabilités que le label soit -1, 0 ou 1. La sortie doit donc être un vecteur de probabilités. \n",
        "\n",
        "C'est pourquoi nous n'allons par exemple pas chercher à prédire 1, mais plutôt [0,0,1] : la probabilité de faire partie de la classe -1 ou 0 est nulle, alors que la probabilité de faire partie de la classe 1 est 1.\n",
        "\n",
        "Pour faire cela simplement, on utilise la fonction \"to_categorical\". Léger détail : to_categorical nécessite que les labels soient positifs, donc je vais transformer les -1 en 2"
      ]
    },
    {
      "cell_type": "code",
      "execution_count": 21,
      "metadata": {
        "id": "I7AZU8yFm5AH"
      },
      "outputs": [],
      "source": [
        "# On modifie la forme des labels\n",
        "from tensorflow.keras.utils import to_categorical\n",
        "\n",
        "def change_labels(y):\n",
        "    y = y.reset_index(drop=True)\n",
        "    n = len(y)\n",
        "    for i in range(n):\n",
        "        if y[i] == -1:\n",
        "            y[i] = 2\n",
        "    return y\n",
        "\n",
        "y2 = change_labels(y)\n",
        "y_train2 = change_labels(y_train)\n",
        "y_test2 = change_labels(y_test)"
      ]
    },
    {
      "cell_type": "code",
      "execution_count": 22,
      "metadata": {
        "id": "qlwitaA9m5AH"
      },
      "outputs": [],
      "source": [
        "y_categ = to_categorical(y2)\n",
        "y_train_categ = to_categorical(y_train2)"
      ]
    },
    {
      "cell_type": "code",
      "execution_count": 23,
      "metadata": {
        "id": "LNflJQn8m5AH"
      },
      "outputs": [],
      "source": [
        "y_test_categ = to_categorical(y_test2)"
      ]
    },
    {
      "cell_type": "markdown",
      "metadata": {
        "id": "yIz0fKjMm5AH"
      },
      "source": [
        "### a) Modèle de multi-perceptron"
      ]
    },
    {
      "cell_type": "markdown",
      "metadata": {
        "id": "uFCSbpS_m5AH"
      },
      "source": [
        "Voici le lien d'une vidéo si vous voulez une introduction au multi-perceptron (réseau de neurones le plus basique) : https://www.youtube.com/watch?v=1uH5p1zqXco"
      ]
    },
    {
      "cell_type": "markdown",
      "source": [
        "La dernière couche du modèle possède 3 neurones et une activation softmax, afin que le réseau donne en sortie les probabilités d'appartenir à chacune des 3 classes."
      ],
      "metadata": {
        "id": "bNKyTGxnHtEU"
      }
    },
    {
      "cell_type": "code",
      "execution_count": null,
      "metadata": {
        "id": "TRZKZdyJm5AH"
      },
      "outputs": [],
      "source": [
        "model = keras.Sequential()\n",
        "model.add(tf.keras.Input(shape=(X_bow.shape[1],)))\n",
        "model.add(layers.Dense(64, activation='relu'))\n",
        "model.add(layers.Dense(32, activation='relu'))\n",
        "model.add(layers.Dense(16, activation='relu'))\n",
        "model.add(layers.Dense(3, activation='softmax'))\n",
        "\n",
        "model.compile(optimizer=tf.keras.optimizers.Adam(),\n",
        "              loss='categorical_crossentropy',\n",
        "              metrics=['accuracy'])"
      ]
    },
    {
      "cell_type": "code",
      "execution_count": null,
      "metadata": {
        "colab": {
          "base_uri": "https://localhost:8080/"
        },
        "id": "SOUmjqxmm5AI",
        "outputId": "92623743-6e08-4c24-fdf0-9d261e044798"
      },
      "outputs": [
        {
          "output_type": "stream",
          "name": "stdout",
          "text": [
            "Epoch 1/40\n",
            "147/147 [==============================] - 5s 10ms/step - loss: 0.7346 - accuracy: 0.6858 - val_loss: 0.5632 - val_accuracy: 0.7798\n",
            "Epoch 2/40\n",
            "147/147 [==============================] - 1s 8ms/step - loss: 0.4161 - accuracy: 0.8450 - val_loss: 0.5654 - val_accuracy: 0.7772\n",
            "Epoch 3/40\n",
            "147/147 [==============================] - 1s 8ms/step - loss: 0.2608 - accuracy: 0.9067 - val_loss: 0.6383 - val_accuracy: 0.7653\n",
            "Epoch 4/40\n",
            "147/147 [==============================] - 1s 7ms/step - loss: 0.1686 - accuracy: 0.9441 - val_loss: 0.7571 - val_accuracy: 0.7559\n",
            "Epoch 5/40\n",
            "147/147 [==============================] - 1s 7ms/step - loss: 0.1098 - accuracy: 0.9646 - val_loss: 0.8543 - val_accuracy: 0.7512\n",
            "Epoch 6/40\n",
            "147/147 [==============================] - 1s 7ms/step - loss: 0.0728 - accuracy: 0.9771 - val_loss: 0.9808 - val_accuracy: 0.7529\n",
            "Epoch 7/40\n",
            "147/147 [==============================] - 1s 7ms/step - loss: 0.0489 - accuracy: 0.9850 - val_loss: 1.0875 - val_accuracy: 0.7443\n",
            "Epoch 8/40\n",
            "147/147 [==============================] - 1s 7ms/step - loss: 0.0343 - accuracy: 0.9901 - val_loss: 1.1899 - val_accuracy: 0.7448\n",
            "Epoch 9/40\n",
            "147/147 [==============================] - 1s 7ms/step - loss: 0.0266 - accuracy: 0.9919 - val_loss: 1.3163 - val_accuracy: 0.7341\n",
            "Epoch 10/40\n",
            "147/147 [==============================] - 1s 7ms/step - loss: 0.0230 - accuracy: 0.9930 - val_loss: 1.3774 - val_accuracy: 0.7375\n",
            "Epoch 11/40\n",
            "147/147 [==============================] - 1s 7ms/step - loss: 0.0217 - accuracy: 0.9932 - val_loss: 1.4356 - val_accuracy: 0.7482\n",
            "Epoch 12/40\n",
            "147/147 [==============================] - 1s 7ms/step - loss: 0.0183 - accuracy: 0.9938 - val_loss: 1.4729 - val_accuracy: 0.7443\n",
            "Epoch 13/40\n",
            "147/147 [==============================] - 1s 7ms/step - loss: 0.0181 - accuracy: 0.9935 - val_loss: 1.5335 - val_accuracy: 0.7401\n",
            "Epoch 14/40\n",
            "147/147 [==============================] - 1s 8ms/step - loss: 0.0166 - accuracy: 0.9944 - val_loss: 1.5548 - val_accuracy: 0.7516\n",
            "Epoch 15/40\n",
            "147/147 [==============================] - 1s 8ms/step - loss: 0.0167 - accuracy: 0.9938 - val_loss: 1.6153 - val_accuracy: 0.7371\n",
            "Epoch 16/40\n",
            "147/147 [==============================] - 1s 7ms/step - loss: 0.0162 - accuracy: 0.9942 - val_loss: 1.6053 - val_accuracy: 0.7490\n",
            "Epoch 17/40\n",
            "147/147 [==============================] - 1s 7ms/step - loss: 0.0168 - accuracy: 0.9939 - val_loss: 1.6271 - val_accuracy: 0.7414\n",
            "Epoch 18/40\n",
            "147/147 [==============================] - 1s 7ms/step - loss: 0.0148 - accuracy: 0.9939 - val_loss: 1.6607 - val_accuracy: 0.7452\n",
            "Epoch 19/40\n",
            "147/147 [==============================] - 1s 7ms/step - loss: 0.0161 - accuracy: 0.9939 - val_loss: 1.6626 - val_accuracy: 0.7465\n",
            "Epoch 20/40\n",
            "147/147 [==============================] - 1s 7ms/step - loss: 0.0143 - accuracy: 0.9948 - val_loss: 1.7160 - val_accuracy: 0.7495\n",
            "Epoch 21/40\n",
            "147/147 [==============================] - 1s 7ms/step - loss: 0.0149 - accuracy: 0.9948 - val_loss: 1.7222 - val_accuracy: 0.7490\n",
            "Epoch 22/40\n",
            "147/147 [==============================] - 1s 7ms/step - loss: 0.0151 - accuracy: 0.9944 - val_loss: 1.7333 - val_accuracy: 0.7431\n",
            "Epoch 23/40\n",
            "147/147 [==============================] - 1s 7ms/step - loss: 0.0154 - accuracy: 0.9942 - val_loss: 1.7519 - val_accuracy: 0.7367\n",
            "Epoch 24/40\n",
            "147/147 [==============================] - 1s 7ms/step - loss: 0.0152 - accuracy: 0.9943 - val_loss: 1.7544 - val_accuracy: 0.7461\n",
            "Epoch 25/40\n",
            "147/147 [==============================] - 1s 8ms/step - loss: 0.0147 - accuracy: 0.9946 - val_loss: 1.7747 - val_accuracy: 0.7294\n",
            "Epoch 26/40\n",
            "147/147 [==============================] - 1s 7ms/step - loss: 0.0140 - accuracy: 0.9944 - val_loss: 1.7618 - val_accuracy: 0.7337\n",
            "Epoch 27/40\n",
            "147/147 [==============================] - 1s 7ms/step - loss: 0.0146 - accuracy: 0.9942 - val_loss: 1.7800 - val_accuracy: 0.7443\n",
            "Epoch 28/40\n",
            "147/147 [==============================] - 1s 7ms/step - loss: 0.0148 - accuracy: 0.9938 - val_loss: 1.7492 - val_accuracy: 0.7443\n",
            "Epoch 29/40\n",
            "147/147 [==============================] - 1s 7ms/step - loss: 0.0146 - accuracy: 0.9942 - val_loss: 1.7467 - val_accuracy: 0.7473\n",
            "Epoch 30/40\n",
            "147/147 [==============================] - 1s 7ms/step - loss: 0.0131 - accuracy: 0.9938 - val_loss: 1.8410 - val_accuracy: 0.7251\n",
            "Epoch 31/40\n",
            "147/147 [==============================] - 1s 7ms/step - loss: 0.0150 - accuracy: 0.9938 - val_loss: 1.7561 - val_accuracy: 0.7469\n",
            "Epoch 32/40\n",
            "147/147 [==============================] - 1s 7ms/step - loss: 0.0138 - accuracy: 0.9944 - val_loss: 1.7781 - val_accuracy: 0.7482\n",
            "Epoch 33/40\n",
            "147/147 [==============================] - 1s 8ms/step - loss: 0.0134 - accuracy: 0.9942 - val_loss: 1.7720 - val_accuracy: 0.7405\n",
            "Epoch 34/40\n",
            "147/147 [==============================] - 1s 8ms/step - loss: 0.0131 - accuracy: 0.9942 - val_loss: 1.8054 - val_accuracy: 0.7324\n",
            "Epoch 35/40\n",
            "147/147 [==============================] - 1s 7ms/step - loss: 0.0142 - accuracy: 0.9942 - val_loss: 1.8451 - val_accuracy: 0.7256\n",
            "Epoch 36/40\n",
            "147/147 [==============================] - 1s 7ms/step - loss: 0.0133 - accuracy: 0.9946 - val_loss: 1.8825 - val_accuracy: 0.7260\n",
            "Epoch 37/40\n",
            "147/147 [==============================] - 1s 7ms/step - loss: 0.0158 - accuracy: 0.9939 - val_loss: 1.8556 - val_accuracy: 0.7409\n",
            "Epoch 38/40\n",
            "147/147 [==============================] - 1s 7ms/step - loss: 0.0311 - accuracy: 0.9896 - val_loss: 1.6953 - val_accuracy: 0.7388\n",
            "Epoch 39/40\n",
            "147/147 [==============================] - 1s 7ms/step - loss: 0.0324 - accuracy: 0.9876 - val_loss: 1.7396 - val_accuracy: 0.7350\n",
            "Epoch 40/40\n",
            "147/147 [==============================] - 1s 7ms/step - loss: 0.0173 - accuracy: 0.9933 - val_loss: 1.7741 - val_accuracy: 0.7439\n"
          ]
        },
        {
          "output_type": "execute_result",
          "data": {
            "text/plain": [
              "<keras.callbacks.History at 0x7fa9e0433c50>"
            ]
          },
          "metadata": {},
          "execution_count": 30
        }
      ],
      "source": [
        "model.fit(X_train_bow, y_train_categ, validation_split=0.2, batch_size=64, epochs=40)"
      ]
    },
    {
      "cell_type": "code",
      "execution_count": null,
      "metadata": {
        "id": "M5n9fSltm5AI"
      },
      "outputs": [],
      "source": [
        "def score(model, X, y):\n",
        "    \"\"\"\n",
        "    Une fonction qui prend en argument un modèle, des données et les labels correspondants, et qui renvoie l'accuracy\n",
        "    Ces étapes sont nécessaires car notre modèle renvoie un vecteur de probabilités du type [0,0,1] ou [0.1, 0.1, 0.8],\n",
        "    avec les probabilités d'appartenir à chacune de nos trois classes.\n",
        "    Pour savoir quelle classe a été prédie, il faut donc prendre celle qui a la plus grande probabilité.\n",
        "    Pour cela, on utilise la fonction np.argmax de numpy\n",
        "    \"\"\"\n",
        "    preds = model.predict(X)\n",
        "    res = []\n",
        "    n = len(preds)\n",
        "    for i in range(n):\n",
        "        res.append(np.argmax(preds[i]))\n",
        "\n",
        "    return accuracy_score(res, y)"
      ]
    },
    {
      "cell_type": "code",
      "execution_count": null,
      "metadata": {
        "colab": {
          "base_uri": "https://localhost:8080/"
        },
        "id": "07RGTJgum5AI",
        "outputId": "3c640d12-072b-445c-8c39-576deb22f4ae"
      },
      "outputs": [
        {
          "output_type": "execute_result",
          "data": {
            "text/plain": [
              "0.7448770491803278"
            ]
          },
          "metadata": {},
          "execution_count": 32
        }
      ],
      "source": [
        "score(model, X_test_bow, y_test2)"
      ]
    },
    {
      "cell_type": "markdown",
      "metadata": {
        "id": "NMYRmX97m5AI"
      },
      "source": [
        "### b) Réseau de neurones récurrent"
      ]
    },
    {
      "cell_type": "markdown",
      "source": [
        "Les réseaux de neurones récurrents (RNN) sont un type de réseau de neurones plus avancé que le multi-perceptron, car ils prennent en compte l'ordre des coordonnées dans nos vecteurs (voir par exemple la vidéo https://www.youtube.com/watch?v=EL439RMv3Xc)\n",
        "\n",
        "Ils nécessitent donc que l'ordre des coordonnées dans nos vecteurs aient une importance, ce qui n'est pas le cas avec bag-of-words ou TF-IDF. C'est pourquoi j'ai utilisé Doc2Vec ici.\n",
        "\n",
        "(NB : les réseaux de neurones récurrents ne sont pas particulièrement adaptés à ce problème, je les ai simplement implémentés pour que vous puissiez les découvrir)"
      ],
      "metadata": {
        "id": "igimjtifn9al"
      }
    },
    {
      "cell_type": "code",
      "execution_count": 24,
      "metadata": {
        "id": "4Cvhir5Vm5AJ"
      },
      "outputs": [],
      "source": [
        "X_d2v = df_d2v.drop(columns=['airline_sentiment'])\n",
        "X_d2v = np.asarray(X_d2v)\n",
        "\n",
        "# On sépare également nos données en données d'entrainement et de test\n",
        "from sklearn.model_selection import train_test_split\n",
        "X_train_d2v, X_test_d2v, y_train, y_test = train_test_split(X_d2v, y, test_size=0.2, random_state=42)"
      ]
    },
    {
      "cell_type": "code",
      "execution_count": null,
      "metadata": {
        "id": "KdN3U5Eom5AJ"
      },
      "outputs": [],
      "source": [
        "model = keras.Sequential()\n",
        "model.add(layers.SimpleRNN(8, input_shape=(X_d2v.shape[1], 1)))\n",
        "model.add(layers.Dense(32, activation='relu'))\n",
        "model.add(layers.Dense(3, activation='softmax'))\n",
        "\n",
        "model.compile(optimizer=tf.keras.optimizers.Adam(),\n",
        "              loss='categorical_crossentropy',\n",
        "              metrics=['accuracy'])"
      ]
    },
    {
      "cell_type": "code",
      "execution_count": null,
      "metadata": {
        "id": "Is63nkS5m5AJ"
      },
      "outputs": [],
      "source": [
        "model.fit(X_train_d2v, y_train_categ, validation_split=0.2, batch_size=64, epochs=5)"
      ]
    },
    {
      "cell_type": "code",
      "execution_count": null,
      "metadata": {
        "id": "hqIXlVL_m5AJ",
        "outputId": "f2d0aa76-2643-4616-f657-3c46817d9db4"
      },
      "outputs": [
        {
          "data": {
            "text/plain": [
              "0.6475409836065574"
            ]
          },
          "execution_count": 275,
          "metadata": {},
          "output_type": "execute_result"
        }
      ],
      "source": [
        "score(model, X_test_d2v, y_test2)"
      ]
    },
    {
      "cell_type": "markdown",
      "metadata": {
        "id": "OXTaZPM_m5AJ"
      },
      "source": [
        "### c) Réseau de neurones récurrent avec LSTM"
      ]
    },
    {
      "cell_type": "code",
      "execution_count": null,
      "metadata": {
        "id": "O0WyQI3tm5AJ"
      },
      "outputs": [],
      "source": [
        "model = keras.Sequential()\n",
        "model.add(layers.LSTM(16, input_shape=(X_d2v.shape[1], 1)))\n",
        "model.add(layers.Dense(32, activation='relu'))\n",
        "model.add(layers.Dense(3, activation='softmax'))\n",
        "\n",
        "model.compile(optimizer=tf.keras.optimizers.Adam(),\n",
        "              loss='categorical_crossentropy',\n",
        "              metrics=['accuracy'])"
      ]
    },
    {
      "cell_type": "code",
      "execution_count": null,
      "metadata": {
        "id": "Pw1_4AL2m5AK",
        "outputId": "fe620805-ed79-45ad-f390-44c2df43ae2f"
      },
      "outputs": [
        {
          "name": "stdout",
          "output_type": "stream",
          "text": [
            "Epoch 1/20\n",
            "147/147 [==============================] - 11s 57ms/step - loss: 0.9560 - accuracy: 0.6183 - val_loss: 0.9167 - val_accuracy: 0.6265\n",
            "Epoch 2/20\n",
            "147/147 [==============================] - 8s 52ms/step - loss: 0.9233 - accuracy: 0.6213 - val_loss: 0.9163 - val_accuracy: 0.6265\n",
            "Epoch 3/20\n",
            "147/147 [==============================] - 7s 45ms/step - loss: 0.9222 - accuracy: 0.6213 - val_loss: 0.9182 - val_accuracy: 0.6265\n",
            "Epoch 4/20\n",
            "147/147 [==============================] - 7s 48ms/step - loss: 0.9225 - accuracy: 0.6213 - val_loss: 0.9167 - val_accuracy: 0.6265\n",
            "Epoch 5/20\n",
            "147/147 [==============================] - 7s 44ms/step - loss: 0.9219 - accuracy: 0.6213 - val_loss: 0.9164 - val_accuracy: 0.6265\n",
            "Epoch 6/20\n",
            "147/147 [==============================] - 7s 45ms/step - loss: 0.9226 - accuracy: 0.6213 - val_loss: 0.9151 - val_accuracy: 0.6265\n",
            "Epoch 7/20\n",
            "147/147 [==============================] - 7s 45ms/step - loss: 0.9207 - accuracy: 0.6213 - val_loss: 0.9156 - val_accuracy: 0.6265\n",
            "Epoch 8/20\n",
            "147/147 [==============================] - 7s 45ms/step - loss: 0.9201 - accuracy: 0.6213 - val_loss: 0.9138 - val_accuracy: 0.6265\n",
            "Epoch 9/20\n",
            "147/147 [==============================] - 7s 45ms/step - loss: 0.9186 - accuracy: 0.6213 - val_loss: 0.9094 - val_accuracy: 0.6265\n",
            "Epoch 10/20\n",
            "147/147 [==============================] - 6s 44ms/step - loss: 0.9180 - accuracy: 0.6213 - val_loss: 0.9126 - val_accuracy: 0.6265\n",
            "Epoch 11/20\n",
            "147/147 [==============================] - 7s 44ms/step - loss: 0.9188 - accuracy: 0.6213 - val_loss: 0.9062 - val_accuracy: 0.6265\n",
            "Epoch 12/20\n",
            "147/147 [==============================] - 6s 43ms/step - loss: 0.9066 - accuracy: 0.6213 - val_loss: 0.8986 - val_accuracy: 0.6265\n",
            "Epoch 13/20\n",
            "147/147 [==============================] - 7s 45ms/step - loss: 0.9011 - accuracy: 0.6213 - val_loss: 0.8903 - val_accuracy: 0.6265\n",
            "Epoch 14/20\n",
            "147/147 [==============================] - 6s 44ms/step - loss: 0.8949 - accuracy: 0.6213 - val_loss: 0.8839 - val_accuracy: 0.6265\n",
            "Epoch 15/20\n",
            "147/147 [==============================] - 7s 50ms/step - loss: 0.8902 - accuracy: 0.6213 - val_loss: 0.8905 - val_accuracy: 0.6265\n",
            "Epoch 16/20\n",
            "147/147 [==============================] - 7s 50ms/step - loss: 0.8888 - accuracy: 0.6213 - val_loss: 0.8809 - val_accuracy: 0.6265\n",
            "Epoch 17/20\n",
            "147/147 [==============================] - 7s 47ms/step - loss: 0.8851 - accuracy: 0.6213 - val_loss: 0.8819 - val_accuracy: 0.6265\n",
            "Epoch 18/20\n",
            "147/147 [==============================] - 8s 56ms/step - loss: 0.8825 - accuracy: 0.6213 - val_loss: 0.8795 - val_accuracy: 0.6265\n",
            "Epoch 19/20\n",
            "147/147 [==============================] - 9s 59ms/step - loss: 0.8830 - accuracy: 0.6213 - val_loss: 0.8758 - val_accuracy: 0.6265\n",
            "Epoch 20/20\n",
            "147/147 [==============================] - 7s 49ms/step - loss: 0.8794 - accuracy: 0.6213 - val_loss: 0.8776 - val_accuracy: 0.6265\n"
          ]
        },
        {
          "data": {
            "text/plain": [
              "<keras.callbacks.History at 0x2e9538e3160>"
            ]
          },
          "execution_count": 277,
          "metadata": {},
          "output_type": "execute_result"
        }
      ],
      "source": [
        "model.fit(X_train_d2v, y_train_categ, validation_split=0.2, batch_size=64, epochs=20)"
      ]
    },
    {
      "cell_type": "code",
      "execution_count": null,
      "metadata": {
        "id": "km9mPHJtm5AK",
        "outputId": "516d8ad3-5454-4e58-dfa9-287ea03d8f7d"
      },
      "outputs": [
        {
          "data": {
            "text/plain": [
              "0.6451502732240437"
            ]
          },
          "execution_count": 278,
          "metadata": {},
          "output_type": "execute_result"
        }
      ],
      "source": [
        "score(model, X_test_d2v, y_test2)"
      ]
    },
    {
      "cell_type": "markdown",
      "source": [
        "## 3) Modèles de deep learning avec PyTorch"
      ],
      "metadata": {
        "id": "K4llwOLcIT4T"
      }
    },
    {
      "cell_type": "markdown",
      "source": [
        "On va également implémenter un modèle de multi-perceptron avec PyTorch, si vous voulez vous familiariser avec cette bibliothèque.  \n",
        "\n",
        "Pour ça, on va d'abord commencer par les importations."
      ],
      "metadata": {
        "id": "I48t3S9hIvqz"
      }
    },
    {
      "cell_type": "code",
      "source": [
        "import torch\n",
        "import torch.nn as nn\n",
        "from torchvision import transforms, models\n",
        "# from torch.utils.data import SubsetRandomSampler\n",
        "from torch.autograd import Variable\n",
        "from torch import nn, optim\n",
        "import torch.nn.functional as F"
      ],
      "metadata": {
        "id": "ZgzQkF0FJT05"
      },
      "execution_count": 26,
      "outputs": []
    },
    {
      "cell_type": "markdown",
      "source": [
        "A présent, convertissons les données avec les types de PyTorch."
      ],
      "metadata": {
        "id": "ZBJyB2JbJVLC"
      }
    },
    {
      "cell_type": "code",
      "source": [
        "def change_labels(y):\n",
        "    y = y.reset_index(drop=True)\n",
        "    n = len(y)\n",
        "    for i in range(n):\n",
        "        if y[i] == -1:\n",
        "            y[i] = 2\n",
        "    return y\n",
        "\n",
        "y2 = change_labels(y)\n",
        "y_train2 = change_labels(y_train)\n",
        "y_test2 = change_labels(y_test)"
      ],
      "metadata": {
        "id": "nwE5ovDNNj0D"
      },
      "execution_count": null,
      "outputs": []
    },
    {
      "cell_type": "code",
      "source": [
        "# create feature and targets tensor for train set. As you remember we need variable to accumulate gradients. Therefore first we create tensor, then we will create variable\n",
        "featuresTrain = torch.from_numpy(np.asarray(X_train_bow)).float()\n",
        "targetsTrain = torch.from_numpy(np.asarray(y_train2)).type(torch.LongTensor) # data type is long\n",
        "\n",
        "# create feature and targets tensor for test set.\n",
        "featuresTest = torch.from_numpy(np.asarray(X_test_bow)).float()\n",
        "targetsTest = torch.from_numpy(np.asarray(y_test2)).type(torch.LongTensor) # data type is long"
      ],
      "metadata": {
        "id": "8XiMTTcMJh0K"
      },
      "execution_count": 57,
      "outputs": []
    },
    {
      "cell_type": "markdown",
      "source": [
        "PyTorch utilise une structure particulière (DataLoader) pour charger les données lors de l'entrainement."
      ],
      "metadata": {
        "id": "S8movD54J8Ey"
      }
    },
    {
      "cell_type": "code",
      "source": [
        "# Choissisons la taille du batch\n",
        "batch_size = 256\n",
        "\n",
        "# Pytorch train and test sets\n",
        "train = torch.utils.data.TensorDataset(featuresTrain,targetsTrain)\n",
        "test = torch.utils.data.TensorDataset(featuresTest,targetsTest)\n",
        "\n",
        "# data loader\n",
        "train_loader = torch.utils.data.DataLoader(train, batch_size = batch_size, shuffle = True)\n",
        "test_loader = torch.utils.data.DataLoader(test, batch_size = batch_size, shuffle = True)"
      ],
      "metadata": {
        "id": "vjWWeXh2J8YM"
      },
      "execution_count": 58,
      "outputs": []
    },
    {
      "cell_type": "markdown",
      "source": [
        "Maintenant, créeons le modèle."
      ],
      "metadata": {
        "id": "49oG2s4hJ4Pk"
      }
    },
    {
      "cell_type": "code",
      "source": [
        "class Model(nn.Module):\n",
        "  def __init__(self):\n",
        "    super().__init__()\n",
        "    self.fc1 = nn.Linear(X_train_bow.shape[1], 256)\n",
        "    self.fc2 = nn.Linear(256, 128)\n",
        "    self.fc3 = nn.Linear(128, 64)\n",
        "    self.fc4 = nn.Linear(64, 3)\n",
        "\n",
        "  def forward(self, x):\n",
        "    x = F.relu(self.fc1(x))\n",
        "    x = F.relu(self.fc2(x))\n",
        "    x = F.relu(self.fc3(x))\n",
        "    x = F.log_softmax(self.fc4(x))\n",
        "\n",
        "    return x"
      ],
      "metadata": {
        "id": "cTdJtj4lIYJx"
      },
      "execution_count": 59,
      "outputs": []
    },
    {
      "cell_type": "markdown",
      "source": [
        "Maintenant, on peut effectuer l'entrainement du modèle."
      ],
      "metadata": {
        "id": "iy100JonLFFb"
      }
    },
    {
      "cell_type": "code",
      "source": [
        "model = Model()\n",
        "\n",
        "# On choisit la loss (fonction de coût)\n",
        "criterion = nn.NLLLoss()\n",
        "# On choisit l'optimizer\n",
        "optimizer = optim.Adam(model.parameters(), lr=0.0015)"
      ],
      "metadata": {
        "id": "ckeYSb9SLCeD"
      },
      "execution_count": 63,
      "outputs": []
    },
    {
      "cell_type": "code",
      "source": [
        "epochs = 25\n",
        "steps = 0\n",
        "\n",
        "for e in range(epochs):\n",
        "  # Entrainement\n",
        "  running_loss = 0\n",
        "  for images, labels in train_loader:\n",
        "    steps += 1\n",
        "\n",
        "    # On réinitialise le calcul du gradient\n",
        "    optimizer.zero_grad()\n",
        "\n",
        "    # On effectue les prédictions et on calcule la loss\n",
        "    log_ps = model(images)\n",
        "    loss = criterion(log_ps, labels)\n",
        "\n",
        "    # On fait la descente de gradient\n",
        "    loss.backward()\n",
        "    optimizer.step()\n",
        "\n",
        "    running_loss += loss.item()\n",
        "\n",
        "\n",
        "  # Test\n",
        "  test_loss = 0\n",
        "  accuracy = 0\n",
        "  with torch.no_grad():\n",
        "    model.eval()\n",
        "    for images, labels in test_loader:\n",
        "      log_ps = model(images)\n",
        "      test_loss += criterion(log_ps, labels)\n",
        "\n",
        "      ps = torch.exp(log_ps)\n",
        "\n",
        "      # Get our top predictions\n",
        "      top_p, top_class = ps.topk(1, dim=1)\n",
        "      equals = top_class == labels.view(*top_class.shape)\n",
        "      accuracy += torch.mean(equals.type(torch.FloatTensor))\n",
        "\n",
        "    model.train()\n",
        "\n",
        "  print(\"Epoch: {}/{}.. \".format(e+1, epochs),\n",
        "                  \"Training Loss: {:.3f}.. \".format(running_loss/len(train_loader)),\n",
        "                  \"Test Loss: {:.3f}.. \".format(test_loss/len(test_loader)),\n",
        "                  \"Test Accuracy: {:.3f}\".format(accuracy/len(test_loader)))\n",
        "\n",
        "   \n",
        "\n",
        "\n",
        "  "
      ],
      "metadata": {
        "colab": {
          "base_uri": "https://localhost:8080/"
        },
        "id": "JJYP0VWZLSGd",
        "outputId": "fc85e51c-75e5-4d68-ba2e-2e49e66532e3"
      },
      "execution_count": 64,
      "outputs": [
        {
          "output_type": "stream",
          "name": "stderr",
          "text": [
            "/usr/local/lib/python3.7/dist-packages/ipykernel_launcher.py:13: UserWarning: Implicit dimension choice for log_softmax has been deprecated. Change the call to include dim=X as an argument.\n",
            "  del sys.path[0]\n"
          ]
        },
        {
          "output_type": "stream",
          "name": "stdout",
          "text": [
            "Epoch: 1/25..  Training Loss: 0.837..  Test Loss: 0.635..  Test Accuracy: 0.743\n",
            "Epoch: 2/25..  Training Loss: 0.527..  Test Loss: 0.525..  Test Accuracy: 0.795\n",
            "Epoch: 3/25..  Training Loss: 0.336..  Test Loss: 0.557..  Test Accuracy: 0.787\n",
            "Epoch: 4/25..  Training Loss: 0.215..  Test Loss: 0.670..  Test Accuracy: 0.787\n",
            "Epoch: 5/25..  Training Loss: 0.138..  Test Loss: 0.824..  Test Accuracy: 0.776\n",
            "Epoch: 6/25..  Training Loss: 0.080..  Test Loss: 0.967..  Test Accuracy: 0.767\n",
            "Epoch: 7/25..  Training Loss: 0.049..  Test Loss: 1.099..  Test Accuracy: 0.760\n",
            "Epoch: 8/25..  Training Loss: 0.033..  Test Loss: 1.220..  Test Accuracy: 0.765\n",
            "Epoch: 9/25..  Training Loss: 0.024..  Test Loss: 1.339..  Test Accuracy: 0.771\n",
            "Epoch: 10/25..  Training Loss: 0.021..  Test Loss: 1.392..  Test Accuracy: 0.769\n",
            "Epoch: 11/25..  Training Loss: 0.020..  Test Loss: 1.442..  Test Accuracy: 0.768\n",
            "Epoch: 12/25..  Training Loss: 0.017..  Test Loss: 1.494..  Test Accuracy: 0.772\n",
            "Epoch: 13/25..  Training Loss: 0.017..  Test Loss: 1.501..  Test Accuracy: 0.770\n",
            "Epoch: 14/25..  Training Loss: 0.017..  Test Loss: 1.498..  Test Accuracy: 0.773\n",
            "Epoch: 15/25..  Training Loss: 0.017..  Test Loss: 1.562..  Test Accuracy: 0.765\n",
            "Epoch: 16/25..  Training Loss: 0.016..  Test Loss: 1.518..  Test Accuracy: 0.771\n",
            "Epoch: 17/25..  Training Loss: 0.016..  Test Loss: 1.583..  Test Accuracy: 0.765\n",
            "Epoch: 18/25..  Training Loss: 0.015..  Test Loss: 1.651..  Test Accuracy: 0.765\n",
            "Epoch: 19/25..  Training Loss: 0.015..  Test Loss: 1.644..  Test Accuracy: 0.759\n",
            "Epoch: 20/25..  Training Loss: 0.015..  Test Loss: 1.682..  Test Accuracy: 0.768\n",
            "Epoch: 21/25..  Training Loss: 0.014..  Test Loss: 1.636..  Test Accuracy: 0.765\n",
            "Epoch: 22/25..  Training Loss: 0.015..  Test Loss: 1.679..  Test Accuracy: 0.770\n",
            "Epoch: 23/25..  Training Loss: 0.015..  Test Loss: 1.626..  Test Accuracy: 0.764\n",
            "Epoch: 24/25..  Training Loss: 0.014..  Test Loss: 1.700..  Test Accuracy: 0.771\n",
            "Epoch: 25/25..  Training Loss: 0.014..  Test Loss: 1.652..  Test Accuracy: 0.765\n"
          ]
        }
      ]
    }
  ],
  "metadata": {
    "colab": {
      "collapsed_sections": [],
      "name": "sentiment_analysis.ipynb",
      "provenance": [],
      "toc_visible": true
    },
    "kernelspec": {
      "display_name": "Python 3 (ipykernel)",
      "language": "python",
      "name": "python3"
    },
    "language_info": {
      "codemirror_mode": {
        "name": "ipython",
        "version": 3
      },
      "file_extension": ".py",
      "mimetype": "text/x-python",
      "name": "python",
      "nbconvert_exporter": "python",
      "pygments_lexer": "ipython3",
      "version": "3.9.9"
    },
    "accelerator": "GPU"
  },
  "nbformat": 4,
  "nbformat_minor": 0
}